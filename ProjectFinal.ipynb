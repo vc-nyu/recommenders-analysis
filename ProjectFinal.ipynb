{
 "cells": [
  {
   "cell_type": "markdown",
   "metadata": {},
   "source": [
    "<h2><center>Comparison of Recommender System Algorithms on Amazon Reviews Dataset</center></h2>\n",
    "<h5><center>Vibha Choudhary (vc1436@nyu.edu)</center></h5>\n"
   ]
  },
  {
   "cell_type": "markdown",
   "metadata": {},
   "source": [
    "## Abstract  \n",
    "Recommendation is an integral part that drives the business sales and industries do a great deal of research and development work in adopting machine learning technologies to improve their recommendation models. There are several recommendation techniques available and most of them are based on Collaborative filtering and Content-based filtering approaches. This project analyses and compares the performance of some of these recommendation models by also addressing the sparsity and cold start problems. The performance of these models are evaluated based on RMSE, MAE,MSE metrics.\n"
   ]
  },
  {
   "cell_type": "markdown",
   "metadata": {},
   "source": [
    "# Table of contents\n",
    "1. [Introduction](#intro)\n",
    "2. [Dataset](#dataset)\n",
    "    1. [Load Dataset](#load)\n",
    "    2. [Data Exploration](#explore)\n",
    "3. [Data Preparation](#prepare)\n",
    "4. [Recommendation Techniques](#recommendation)\n",
    "    1. [Baseline](#baseline)\n",
    "    2. [Colloborative filtering - KNN](#cf_knn)\n",
    "         1. [User-based](#cf_knn_user)\n",
    "         2. [Item-based](#cf_knn_item)\n",
    "    3. [Colloborative filtering - Kmeans](#cf_kmeans)\n",
    "    4. [Matrix Factorisation - ALS](#als)\n",
    "    5. [Content based filtering](#bert)\n",
    "5. [Conclusion](#conclusion)\n",
    "6. [Future Work](#future)"
   ]
  },
  {
   "cell_type": "markdown",
   "metadata": {},
   "source": [
    "# 1. Introduction <a name=\"intro\"></a>"
   ]
  },
  {
   "cell_type": "markdown",
   "metadata": {},
   "source": [
    "Recommender systems have become a critical part of every business and they are widely used to support users in finding relevant information. Recommendation drives more purchases for a business than any other purchase influence. According to a <a href = 'https://www.mckinsey.com/industries/retail/our-insights/how-retailers-can-keep-up-with-consumers'>McKinsey report</a>, 35% of what consumers purchase on Amazon and 75% of what they watch on Netflix come from algorithmical product recommendations. Every business wants its consumers to have the best user experience when they browse or purchase products on their web platform. Netflix has spent years building and improving its recommendation engine and even sponsored a <a href = 'https://www.netflixprize.com/'>$1 million contest</a> to improve its algorithm.\n",
    "\n",
    "Recommender systems aim to predict users’ interests and recommend product items that quite likely are interesting for them. Data required to build recommendation system can be available in either explicit (user ratings) or implicit form (users' browsing history, purchase history, click patterns, etc). One can also leverage the knowledge available about users/items to do recommendations. In this project, the explicit ratings given by the Amazon.com marketplace customers to the products are utilised to build the recommendation models and test their performances. \n",
    "\n",
    "The purpose of this project is to explore the different recommendation models on Amazon customer reviews dataset, understand how they work, compare their performances and address the problems associated with them. The following recommendation techniques have been analysed and tested:  \n",
    "1. Popularity based model  \n",
    "2. Collobarative filtering using KNN  \n",
    "3. Colloborative filtering using Kmeans Clustering  \n",
    "4. Matrix factorisation using ALS\n",
    "5. Content-based filtering using BERT\n",
    "\n",
    "This notebook is organised as follows. Section 2 of this notebook explores the dataset and perform exploratory analysis, section 3 focuses on preparation of data for machine learning models, section 4 discusses the recommendation techniques and their implemenadtion on the project dataset, section 5 provides a conclusion on the results and section 6 discusses future work."
   ]
  },
  {
   "cell_type": "markdown",
   "metadata": {},
   "source": [
    "## 2. The Dataset <a name=\"dataset\"></a>"
   ]
  },
  {
   "attachments": {},
   "cell_type": "markdown",
   "metadata": {},
   "source": [
    "The dataset for this project is taken from the AWS Public dataset page. More details about this dataset can be found at <a href = 'https://s3.amazonaws.com/amazon-reviews-pds/readme.html'> Amazon Customer Reviews</a>. It consists of product reviews written in the Amazon.com marketplace from 1995 until 2015. There are over 130+ million customer reviews that are available to researchers as part of this release. The reviews are partitioned by product_category and are available to download in the tsv (tab separated value) format. For this project, reviews of 3 product categories (Home, Electronics and Mobile Electronics) are utilised."
   ]
  },
  {
   "cell_type": "code",
   "execution_count": 1,
   "metadata": {},
   "outputs": [],
   "source": [
    "import os\n",
    "project_dir = \"C:/Users/Vibha Khatri/Desktop/ML book/Project/data\"\n",
    "home = \"https://s3.amazonaws.com/amazon-reviews-pds/tsv/amazon_reviews_us_Home_v1_00.tsv.gz\"\n",
    "mob_electronics = \"https://s3.amazonaws.com/amazon-reviews-pds/tsv/amazon_reviews_us_Mobile_Electronics_v1_00.tsv.gz\"\n",
    "electronics = \"https://s3.amazonaws.com/amazon-reviews-pds/tsv/amazon_reviews_us_Electronics_v1_00.tsv.gz\"\n",
    "\n",
    "#download files\n",
    "! curl home --output os.path.join(project_dir, \"Home.tsv.gz\") --silent\n",
    "! curl mob_electronics --output os.path.join(project_dir, \"Mobile_Electronics.tsv.gz\") --silent\n",
    "! curl electronics --output os.path.join(project_dir, \"Electronics.tsv.gz\") --silent"
   ]
  },
  {
   "cell_type": "markdown",
   "metadata": {},
   "source": [
    "### Dataset features  <a name=\"load\"></a>\n"
   ]
  },
  {
   "cell_type": "markdown",
   "metadata": {},
   "source": [
    "There are 15 features in the dataset which are described as follows:\n",
    " - marketplace - 2 letter country code of the marketplace where the review was written.  \n",
    " - review_id - The unique ID of the review.  \n",
    " - customer_id - Random identifier that can be used to aggregate reviews written by a single author.  \n",
    " - product_id - The unique Product ID the review pertains to.  \n",
    " - product_parent - Random identifier that can be used to aggregate reviews for the same product.  \n",
    " - product_title - Title of the product.  \n",
    " - product_category - Broad product category that can be used to group reviews.  \n",
    " - star_rating - The 1-5-star rating of the review.  \n",
    " - helpful_votes - Number of helpful votes.  \n",
    " - total_votes - Number of total votes the review received.  \n",
    " - vine - Review was written as part of the Vine program.  \n",
    " - verified_purchase - The review is on a verified purchase.  \n",
    " - review_headline - The title of the review.  \n",
    " - review_body - The review text.  \n",
    " - review_date - The date the review was written.   \n",
    " \n",
    "The features important for this project are:  \n",
    " - customer_id, product_id, product_category, product_title, star_rating\n"
   ]
  },
  {
   "cell_type": "code",
   "execution_count": 2,
   "metadata": {},
   "outputs": [],
   "source": [
    "# load dataset into dataframes\n",
    "import pandas as pd\n",
    "file_path1 = os.path.join(project_dir, \"Electronics.tsv\")\n",
    "file_path2 = os.path.join(project_dir, \"Mobile_Electronics.tsv\")\n",
    "file_path3 = os.path.join(project_dir, \"Home.tsv\")\n",
    "\n",
    "use_cols = ['review_id', 'customer_id', 'product_id', 'product_title', 'product_category', 'star_rating', 'review_date']\n",
    "df1 = pd.read_csv(file_path1, sep='\\t+', encoding='utf-8', header=0, engine = 'python', usecols = use_cols, error_bad_lines = False)\n",
    "df2 = pd.read_csv(file_path2, sep='\\t+', encoding='utf-8', header=0, engine = 'python', usecols = use_cols, error_bad_lines = False)\n",
    "df3 = pd.read_csv(file_path3, sep='\\t+', encoding='utf-8', header=0, engine = 'python', usecols = use_cols, error_bad_lines = False)\n",
    "\n",
    "# remove null data\n",
    "df1 = df1[df1['review_date'].notnull()]\n",
    "df2 = df2[df2['review_date'].notnull()]\n",
    "df3 = df3[df3['review_date'].notnull()]\n",
    "\n",
    "# extract year information\n",
    "df1['year'] = df1['review_date'].str.slice(0, 4)\n",
    "df2['year'] = df2['review_date'].str.slice(0, 4)\n",
    "df3['year'] = df3['review_date'].str.slice(0, 4)"
   ]
  },
  {
   "cell_type": "code",
   "execution_count": 3,
   "metadata": {},
   "outputs": [],
   "source": [
    "import seaborn as sns\n",
    "import matplotlib.pyplot as plt\n",
    "\n",
    "# define plot functions\n",
    "\n",
    "def plot_ratings_distribution():\n",
    "    for j,col in enumerate(['star_rating','year']):\n",
    "        fig, ax = plt.subplots(nrows=1, ncols=3, figsize = (24,6)) \n",
    "        fig.suptitle(str(col +\" distribution\"), fontsize=16)\n",
    "        for ix, frame in enumerate([df1,df2,df3]): \n",
    "            rat = frame[col].value_counts().to_frame()\n",
    "            rat.columns = ['count']\n",
    "            rat.index.name = col\n",
    "            rat.reset_index(level=0, inplace=True)\n",
    "            rat['percent'] = rat['count'] * 100 / rat['count'].sum() \n",
    "            sns.barplot(x=col, y=\"percent\", data=rat, ax=ax[ix])\n",
    "            ax[ix].set_title(frame.loc[0,'product_category'])\n",
    "            ax[ix].set_ylabel('Percent')\n",
    "            ax[ix].set_xticklabels(ax[ix].get_xticklabels(), rotation=90, horizontalalignment='left')\n",
    "            \n",
    "def plot_reviews_distribution():            \n",
    "    for j,col in enumerate(['product','customer']):\n",
    "        fig, ax = plt.subplots(nrows=1, ncols=3, figsize = (24,6)) \n",
    "        fig.suptitle(str(\"Per \" + col +\" reviews count\"), fontsize=16)\n",
    "        if col == 'product':\n",
    "            range = [1, 2500]\n",
    "        else:\n",
    "            range = [1, 50]\n",
    "        for ix, frame in enumerate([df1,df2,df3]):    \n",
    "            reviews = frame[col + \"_id\"].value_counts().to_frame()\n",
    "            reviews.columns = ['count']\n",
    "            ax[ix].hist(x=reviews['count'], bins=100, rwidth=0.9,\n",
    "                           color='#607c8e', range=range)\n",
    "            ax[ix].set_title(frame.loc[0,'product_category'])\n",
    "            ax[ix].set_xlabel('Reviews')\n",
    "            ax[ix].set_ylabel('Frequency')\n",
    "            ax[ix].grid(axis='y', alpha=0.8)"
   ]
  },
  {
   "cell_type": "markdown",
   "metadata": {},
   "source": [
    "### Dataset exploration <a name=\"explore\"></a>\n",
    "\n",
    "\n",
    "The reviews data of Electronics, Mobile Electronics and Home categories are analysed to get the insights from the data. "
   ]
  },
  {
   "cell_type": "markdown",
   "metadata": {},
   "source": [
    "#### Electronics dataset"
   ]
  },
  {
   "cell_type": "code",
   "execution_count": 4,
   "metadata": {},
   "outputs": [
    {
     "data": {
      "text/html": [
       "<div>\n",
       "<style scoped>\n",
       "    .dataframe tbody tr th:only-of-type {\n",
       "        vertical-align: middle;\n",
       "    }\n",
       "\n",
       "    .dataframe tbody tr th {\n",
       "        vertical-align: top;\n",
       "    }\n",
       "\n",
       "    .dataframe thead th {\n",
       "        text-align: right;\n",
       "    }\n",
       "</style>\n",
       "<table border=\"1\" class=\"dataframe\">\n",
       "  <thead>\n",
       "    <tr style=\"text-align: right;\">\n",
       "      <th></th>\n",
       "      <th>customer_id</th>\n",
       "      <th>review_id</th>\n",
       "      <th>product_id</th>\n",
       "      <th>product_title</th>\n",
       "      <th>product_category</th>\n",
       "      <th>star_rating</th>\n",
       "      <th>review_date</th>\n",
       "      <th>year</th>\n",
       "    </tr>\n",
       "  </thead>\n",
       "  <tbody>\n",
       "    <tr>\n",
       "      <th>0</th>\n",
       "      <td>41409413</td>\n",
       "      <td>R2MTG1GCZLR2DK</td>\n",
       "      <td>B00428R89M</td>\n",
       "      <td>yoomall 5M Antenna WIFI RP-SMA Female to Male ...</td>\n",
       "      <td>Electronics</td>\n",
       "      <td>5</td>\n",
       "      <td>2015-08-31</td>\n",
       "      <td>2015</td>\n",
       "    </tr>\n",
       "    <tr>\n",
       "      <th>1</th>\n",
       "      <td>49668221</td>\n",
       "      <td>R2HBOEM8LE9928</td>\n",
       "      <td>B000068O48</td>\n",
       "      <td>Hosa GPM-103 3.5mm TRS to 1/4\" TRS Adaptor</td>\n",
       "      <td>Electronics</td>\n",
       "      <td>5</td>\n",
       "      <td>2015-08-31</td>\n",
       "      <td>2015</td>\n",
       "    </tr>\n",
       "    <tr>\n",
       "      <th>2</th>\n",
       "      <td>12338275</td>\n",
       "      <td>R1P4RW1R9FDPEE</td>\n",
       "      <td>B000GGKOG8</td>\n",
       "      <td>Channel Master Titan 2 Antenna Preamplifier</td>\n",
       "      <td>Electronics</td>\n",
       "      <td>5</td>\n",
       "      <td>2015-08-31</td>\n",
       "      <td>2015</td>\n",
       "    </tr>\n",
       "  </tbody>\n",
       "</table>\n",
       "</div>"
      ],
      "text/plain": [
       "   customer_id       review_id  product_id  \\\n",
       "0     41409413  R2MTG1GCZLR2DK  B00428R89M   \n",
       "1     49668221  R2HBOEM8LE9928  B000068O48   \n",
       "2     12338275  R1P4RW1R9FDPEE  B000GGKOG8   \n",
       "\n",
       "                                       product_title product_category  \\\n",
       "0  yoomall 5M Antenna WIFI RP-SMA Female to Male ...      Electronics   \n",
       "1         Hosa GPM-103 3.5mm TRS to 1/4\" TRS Adaptor      Electronics   \n",
       "2        Channel Master Titan 2 Antenna Preamplifier      Electronics   \n",
       "\n",
       "   star_rating review_date  year  \n",
       "0            5  2015-08-31  2015  \n",
       "1            5  2015-08-31  2015  \n",
       "2            5  2015-08-31  2015  "
      ]
     },
     "execution_count": 4,
     "metadata": {},
     "output_type": "execute_result"
    }
   ],
   "source": [
    "df1.head(3)"
   ]
  },
  {
   "cell_type": "markdown",
   "metadata": {},
   "source": [
    "#### Mobile Electronics dataset"
   ]
  },
  {
   "cell_type": "code",
   "execution_count": 5,
   "metadata": {},
   "outputs": [
    {
     "data": {
      "text/html": [
       "<div>\n",
       "<style scoped>\n",
       "    .dataframe tbody tr th:only-of-type {\n",
       "        vertical-align: middle;\n",
       "    }\n",
       "\n",
       "    .dataframe tbody tr th {\n",
       "        vertical-align: top;\n",
       "    }\n",
       "\n",
       "    .dataframe thead th {\n",
       "        text-align: right;\n",
       "    }\n",
       "</style>\n",
       "<table border=\"1\" class=\"dataframe\">\n",
       "  <thead>\n",
       "    <tr style=\"text-align: right;\">\n",
       "      <th></th>\n",
       "      <th>customer_id</th>\n",
       "      <th>review_id</th>\n",
       "      <th>product_id</th>\n",
       "      <th>product_title</th>\n",
       "      <th>product_category</th>\n",
       "      <th>star_rating</th>\n",
       "      <th>review_date</th>\n",
       "      <th>year</th>\n",
       "    </tr>\n",
       "  </thead>\n",
       "  <tbody>\n",
       "    <tr>\n",
       "      <th>0</th>\n",
       "      <td>20422322</td>\n",
       "      <td>R8MEA6IGAHO0B</td>\n",
       "      <td>B00MC4CED8</td>\n",
       "      <td>BlackVue DR600GW-PMP</td>\n",
       "      <td>Mobile_Electronics</td>\n",
       "      <td>5</td>\n",
       "      <td>2015-08-31</td>\n",
       "      <td>2015</td>\n",
       "    </tr>\n",
       "    <tr>\n",
       "      <th>1</th>\n",
       "      <td>40835037</td>\n",
       "      <td>R31LOQ8JGLPRLK</td>\n",
       "      <td>B00OQMFG1Q</td>\n",
       "      <td>GENSSI GSM / GPS Two Way Smart Phone Car Alarm...</td>\n",
       "      <td>Mobile_Electronics</td>\n",
       "      <td>5</td>\n",
       "      <td>2015-08-31</td>\n",
       "      <td>2015</td>\n",
       "    </tr>\n",
       "    <tr>\n",
       "      <th>2</th>\n",
       "      <td>51469641</td>\n",
       "      <td>R2Y0MM9YE6OP3P</td>\n",
       "      <td>B00QERR5CY</td>\n",
       "      <td>iXCC Multi pack Lightning cable</td>\n",
       "      <td>Mobile_Electronics</td>\n",
       "      <td>5</td>\n",
       "      <td>2015-08-31</td>\n",
       "      <td>2015</td>\n",
       "    </tr>\n",
       "  </tbody>\n",
       "</table>\n",
       "</div>"
      ],
      "text/plain": [
       "   customer_id       review_id  product_id  \\\n",
       "0     20422322   R8MEA6IGAHO0B  B00MC4CED8   \n",
       "1     40835037  R31LOQ8JGLPRLK  B00OQMFG1Q   \n",
       "2     51469641  R2Y0MM9YE6OP3P  B00QERR5CY   \n",
       "\n",
       "                                       product_title    product_category  \\\n",
       "0                               BlackVue DR600GW-PMP  Mobile_Electronics   \n",
       "1  GENSSI GSM / GPS Two Way Smart Phone Car Alarm...  Mobile_Electronics   \n",
       "2                    iXCC Multi pack Lightning cable  Mobile_Electronics   \n",
       "\n",
       "   star_rating review_date  year  \n",
       "0            5  2015-08-31  2015  \n",
       "1            5  2015-08-31  2015  \n",
       "2            5  2015-08-31  2015  "
      ]
     },
     "execution_count": 5,
     "metadata": {},
     "output_type": "execute_result"
    }
   ],
   "source": [
    "df2.head(3)"
   ]
  },
  {
   "cell_type": "markdown",
   "metadata": {},
   "source": [
    "#### Home dataset"
   ]
  },
  {
   "cell_type": "code",
   "execution_count": 6,
   "metadata": {},
   "outputs": [
    {
     "data": {
      "text/html": [
       "<div>\n",
       "<style scoped>\n",
       "    .dataframe tbody tr th:only-of-type {\n",
       "        vertical-align: middle;\n",
       "    }\n",
       "\n",
       "    .dataframe tbody tr th {\n",
       "        vertical-align: top;\n",
       "    }\n",
       "\n",
       "    .dataframe thead th {\n",
       "        text-align: right;\n",
       "    }\n",
       "</style>\n",
       "<table border=\"1\" class=\"dataframe\">\n",
       "  <thead>\n",
       "    <tr style=\"text-align: right;\">\n",
       "      <th></th>\n",
       "      <th>customer_id</th>\n",
       "      <th>review_id</th>\n",
       "      <th>product_id</th>\n",
       "      <th>product_title</th>\n",
       "      <th>product_category</th>\n",
       "      <th>star_rating</th>\n",
       "      <th>review_date</th>\n",
       "      <th>year</th>\n",
       "    </tr>\n",
       "  </thead>\n",
       "  <tbody>\n",
       "    <tr>\n",
       "      <th>0</th>\n",
       "      <td>33670092</td>\n",
       "      <td>R1UUISQ1GKOJTI</td>\n",
       "      <td>B00EE62UAE</td>\n",
       "      <td>Trademark Home Portable Closet, White</td>\n",
       "      <td>Home</td>\n",
       "      <td>1</td>\n",
       "      <td>2015-08-31</td>\n",
       "      <td>2015</td>\n",
       "    </tr>\n",
       "    <tr>\n",
       "      <th>1</th>\n",
       "      <td>13726692</td>\n",
       "      <td>R1HOJ9WE8VCVOD</td>\n",
       "      <td>B001APXO5C</td>\n",
       "      <td>O2-Cool 10-Inch Portable Fan</td>\n",
       "      <td>Home</td>\n",
       "      <td>5</td>\n",
       "      <td>2015-08-31</td>\n",
       "      <td>2015</td>\n",
       "    </tr>\n",
       "    <tr>\n",
       "      <th>2</th>\n",
       "      <td>50131396</td>\n",
       "      <td>RDNGVXMWQN2TN</td>\n",
       "      <td>B002HFDLCK</td>\n",
       "      <td>Hoover Vacuum Cleaner T-Series Windtunnel Rewi...</td>\n",
       "      <td>Home</td>\n",
       "      <td>5</td>\n",
       "      <td>2015-08-31</td>\n",
       "      <td>2015</td>\n",
       "    </tr>\n",
       "  </tbody>\n",
       "</table>\n",
       "</div>"
      ],
      "text/plain": [
       "   customer_id       review_id  product_id  \\\n",
       "0     33670092  R1UUISQ1GKOJTI  B00EE62UAE   \n",
       "1     13726692  R1HOJ9WE8VCVOD  B001APXO5C   \n",
       "2     50131396   RDNGVXMWQN2TN  B002HFDLCK   \n",
       "\n",
       "                                       product_title product_category  \\\n",
       "0              Trademark Home Portable Closet, White             Home   \n",
       "1                       O2-Cool 10-Inch Portable Fan             Home   \n",
       "2  Hoover Vacuum Cleaner T-Series Windtunnel Rewi...             Home   \n",
       "\n",
       "   star_rating review_date  year  \n",
       "0            1  2015-08-31  2015  \n",
       "1            5  2015-08-31  2015  \n",
       "2            5  2015-08-31  2015  "
      ]
     },
     "execution_count": 6,
     "metadata": {},
     "output_type": "execute_result"
    }
   ],
   "source": [
    "df3.head(3)"
   ]
  },
  {
   "cell_type": "markdown",
   "metadata": {},
   "source": [
    "### Ratings distribution"
   ]
  },
  {
   "cell_type": "markdown",
   "metadata": {},
   "source": [
    "By plotting the reviews by ratings and year, one can observe that the ratings received in all the three categories of products mostly lie in the range of 3 and 5. The years that received most of the reviews lie in the range 2007 and 2017.\n"
   ]
  },
  {
   "cell_type": "code",
   "execution_count": 7,
   "metadata": {},
   "outputs": [
    {
     "data": {
      "image/png": "[encoded data removed]",
      "text/plain": [
       "<Figure size 1728x432 with 3 Axes>"
      ]
     },
     "metadata": {
      "needs_background": "light"
     },
     "output_type": "display_data"
    },
    {
     "data": {
      "image/png": "[encoded data removed]",
      "text/plain": [
       "<Figure size 1728x432 with 3 Axes>"
      ]
     },
     "metadata": {
      "needs_background": "light"
     },
     "output_type": "display_data"
    }
   ],
   "source": [
    "plot_ratings_distribution()"
   ]
  },
  {
   "cell_type": "markdown",
   "metadata": {},
   "source": [
    "### Per product and customer reviews"
   ]
  },
  {
   "cell_type": "markdown",
   "metadata": {},
   "source": [
    "Most recommender systems face problems with shortage of reviews. To see if our current dataset faces such problem the distribution of reviews are plotted on per product and per customer basis and the results show that there is definitely shortage of reviews in our dataset. Not many products have received reviews greater than 100 and not many customers have given more than 10 reviews."
   ]
  },
  {
   "cell_type": "code",
   "execution_count": 8,
   "metadata": {},
   "outputs": [
    {
     "data": {
      "image/png": "[encoded data removed]",
      "text/plain": [
       "<Figure size 1728x432 with 3 Axes>"
      ]
     },
     "metadata": {
      "needs_background": "light"
     },
     "output_type": "display_data"
    },
    {
     "data": {
      "image/png": "[encoded data removed]",
      "text/plain": [
       "<Figure size 1728x432 with 3 Axes>"
      ]
     },
     "metadata": {
      "needs_background": "light"
     },
     "output_type": "display_data"
    }
   ],
   "source": [
    "plot_reviews_distribution()"
   ]
  },
  {
   "cell_type": "markdown",
   "metadata": {},
   "source": [
    "# 3. Data Preparation  <a name=\"prepare\"></a>\n",
    "The reviews from all the three product categories are combined in a single dataset and the combined reviews distribution is shown in the below plots. To prepare data for the recommendation models and for better evaluation of the models, the dataset is filtered to include only those users who have given atleast 5 reviews and those products which have received atleast 200 reviews. The training and test datasets are prepared for both user based and item based approaches where dataset is stratified based on users in the former approach and it is stratified based on items in the later approach."
   ]
  },
  {
   "cell_type": "code",
   "execution_count": 9,
   "metadata": {},
   "outputs": [],
   "source": [
    "# Data Preparation\n",
    "from sklearn.model_selection import train_test_split\n",
    "\n",
    "# combine reviews of 3 categories\n",
    "reviews_data = pd.concat([df1,df2,df3])\n",
    "df1, df2, df3 = pd.DataFrame(), pd.DataFrame(), pd.DataFrame()\n",
    "\n",
    "# plot final distribution\n",
    "def plot_combined_distribution():\n",
    "    fig, ax = plt.subplots(nrows=1, ncols=4, figsize = (30,6)) \n",
    "    for ix, col in enumerate(['star_rating','year','product_id','customer_id']):\n",
    "        reviews = reviews_data[col].value_counts().to_frame()\n",
    "        reviews.columns = ['count']\n",
    "        reviews.index.name = col\n",
    "        reviews.reset_index(level=0, inplace=True)\n",
    "        reviews['percent'] = reviews['count'] * 100 / reviews['count'].sum()\n",
    "        if col in ('star_rating','year'):\n",
    "            sns.barplot(x=col, y=\"percent\", data=reviews, ax=ax[ix])\n",
    "            ax[ix].set_title(col + \" distribution\")\n",
    "            ax[ix].set_ylabel('Percent')\n",
    "            ax[ix].set_xticklabels(ax[ix].get_xticklabels(), rotation=90, horizontalalignment='left')\n",
    "        else:\n",
    "            if col == 'product_id':\n",
    "                range = [1, 500]\n",
    "            else:\n",
    "                range = [1, 50]\n",
    "            ax[ix].hist(x=reviews['count'], bins=100, rwidth=0.9,\n",
    "                           color='#607c8e', range=range)\n",
    "            ax[ix].set_title(\"Per \" + col + \" reviews count\")\n",
    "            ax[ix].set_xlabel('Reviews')\n",
    "            ax[ix].set_ylabel('Frequency')\n",
    "            ax[ix].grid(axis='y', alpha=0.8)  \n",
    "            \n",
    "# filter dataset to exclude cutomers and products\n",
    "def filter_reviews_data_user_based():  \n",
    "    filtered_data = reviews_data.loc[:,['customer_id', 'product_id', 'product_title', 'product_category', 'star_rating']]\n",
    "    # exclude products with less than 200 reviews\n",
    "    product_reviews_count = filtered_data['product_id'].value_counts().to_frame()\n",
    "    product_reviews_count.columns = ['review_count']\n",
    "    product_reviews_count.index.name = 'product_id'\n",
    "    product_reviews_count.reset_index(level=0, inplace=True)\n",
    "    exclude_products = product_reviews_count[product_reviews_count['review_count'] < 200]['product_id'].to_frame()\n",
    "    filtered_data = filtered_data[~(filtered_data.product_id.isin(exclude_products.product_id))]\n",
    "\n",
    "    # exclude customer with less than 5 reviews\n",
    "    user_reviews_count = filtered_data['customer_id'].value_counts().to_frame()\n",
    "    user_reviews_count.columns = ['review_count']\n",
    "    user_reviews_count.index.name = 'customer_id'\n",
    "    user_reviews_count.reset_index(level=0, inplace=True)\n",
    "    exclude_users = user_reviews_count[user_reviews_count['review_count'] < 5]['customer_id'].to_frame()\n",
    "    filtered_data = filtered_data[~(filtered_data.customer_id.isin(exclude_users.customer_id))]\n",
    "    return filtered_data\n",
    "\n",
    "# filter dataset to exclude cutomers and products\n",
    "def filter_reviews_data_item_based():  \n",
    "    filtered_data = reviews_data.loc[:,['customer_id', 'product_id', 'product_title', 'product_category', 'star_rating']]\n",
    "    # exclude customer with less than 5 reviews\n",
    "    user_reviews_count = filtered_data['customer_id'].value_counts().to_frame()\n",
    "    user_reviews_count.columns = ['review_count']\n",
    "    user_reviews_count.index.name = 'customer_id'\n",
    "    user_reviews_count.reset_index(level=0, inplace=True)\n",
    "    exclude_users = user_reviews_count[user_reviews_count['review_count'] < 5]['customer_id'].to_frame()\n",
    "    filtered_data = filtered_data[~(filtered_data.customer_id.isin(exclude_users.customer_id))]\n",
    "    \n",
    "    # exclude products with less than 200 reviews\n",
    "    product_reviews_count = filtered_data['product_id'].value_counts().to_frame()\n",
    "    product_reviews_count.columns = ['review_count']\n",
    "    product_reviews_count.index.name = 'product_id'\n",
    "    product_reviews_count.reset_index(level=0, inplace=True)\n",
    "    exclude_products = product_reviews_count[product_reviews_count['review_count'] < 200]['product_id'].to_frame()\n",
    "    filtered_data = filtered_data[~(filtered_data.product_id.isin(exclude_products.product_id))]\n",
    "    return filtered_data"
   ]
  },
  {
   "cell_type": "code",
   "execution_count": 10,
   "metadata": {},
   "outputs": [
    {
     "data": {
      "image/png": "[encoded data removed]",
      "text/plain": [
       "<Figure size 2160x432 with 4 Axes>"
      ]
     },
     "metadata": {
      "needs_background": "light"
     },
     "output_type": "display_data"
    }
   ],
   "source": [
    "plot_combined_distribution()"
   ]
  },
  {
   "cell_type": "code",
   "execution_count": 12,
   "metadata": {},
   "outputs": [
    {
     "name": "stdout",
     "output_type": "stream",
     "text": [
      "Total reviews (254273, 5)\n",
      "Total unique customers 37241\n",
      "Total unique products 5514\n"
     ]
    }
   ],
   "source": [
    "reviews_data = filter_reviews_data_user_based()\n",
    "print(\"Total reviews\", reviews_data.shape)\n",
    "print(\"Total unique customers\", reviews_data.customer_id.unique().size)\n",
    "print(\"Total unique products\", reviews_data.product_id.unique().size)"
   ]
  },
  {
   "cell_type": "markdown",
   "metadata": {},
   "source": [
    "### Train / Test split"
   ]
  },
  {
   "cell_type": "markdown",
   "metadata": {},
   "source": [
    "The combined reviews dataset is split into training and test dataset into 70:30 ratio. To ensure that the proportion of each user's reviews is the same in both the training and testing datasets, the customer_id is treated as the target variable and the dataset is stratified along the customer_id."
   ]
  },
  {
   "cell_type": "markdown",
   "metadata": {},
   "source": [
    "### User based split"
   ]
  },
  {
   "cell_type": "code",
   "execution_count": 13,
   "metadata": {},
   "outputs": [],
   "source": [
    "filter_data = filter_reviews_data_user_based()\n",
    "X_train, X_test, y_train, y_test = train_test_split(filter_data, filter_data['customer_id'], test_size = 0.30, random_state=42,\n",
    "                                                    stratify=filter_data['customer_id'] )\n",
    "X_train.to_csv(os.path.join(project_dir, \"X_train.csv\"))\n",
    "X_test.to_csv(os.path.join(project_dir, \"X_test.csv\"))\n",
    "y_train.to_csv(os.path.join(project_dir, \"y_train.csv\"))\n",
    "y_test.to_csv(os.path.join(project_dir,\"y_test.csv\"))"
   ]
  },
  {
   "cell_type": "code",
   "execution_count": 14,
   "metadata": {},
   "outputs": [
    {
     "name": "stdout",
     "output_type": "stream",
     "text": [
      "Training dataset shape:  (177991, 5)\n",
      "Test dataset shape:  (76282, 5)\n",
      "Unique customers in train dataset:  37241\n",
      "Unique products in train dataset:  5513\n",
      "Unique customers in test dataset:  37241\n",
      "Unique products in test dataset:  5454\n"
     ]
    }
   ],
   "source": [
    "print(\"Training dataset shape: \", X_train.shape)\n",
    "print(\"Test dataset shape: \", X_test.shape)\n",
    "print(\"Unique customers in train dataset: \", X_train.customer_id.unique().size)\n",
    "print(\"Unique products in train dataset: \", X_train.product_id.unique().size)\n",
    "print(\"Unique customers in test dataset: \", X_test.customer_id.unique().size)\n",
    "print(\"Unique products in test dataset: \", X_test.product_id.unique().size)"
   ]
  },
  {
   "cell_type": "markdown",
   "metadata": {},
   "source": [
    "### Item based split"
   ]
  },
  {
   "cell_type": "code",
   "execution_count": 13,
   "metadata": {},
   "outputs": [],
   "source": [
    "filter_data = filter_reviews_data_item_based()\n",
    "X_train, X_test, y_train, y_test = train_test_split(filter_data, filter_data['product_id'], test_size = 0.30, random_state=42,\n",
    "                                                    stratify=filter_data['product_id'] )\n",
    "X_train.to_csv(os.path.join(project_dir, \"X_train1.csv\"))\n",
    "X_test.to_csv(os.path.join(project_dir, \"X_test1.csv\"))\n",
    "y_train.to_csv(os.path.join(project_dir, \"y_train1.csv\"))\n",
    "y_test.to_csv(os.path.join(project_dir,\"y_test1.csv\"))"
   ]
  },
  {
   "cell_type": "code",
   "execution_count": 14,
   "metadata": {},
   "outputs": [
    {
     "name": "stdout",
     "output_type": "stream",
     "text": [
      "Training dataset shape:  (177991, 5)\n",
      "Test dataset shape:  (76282, 5)\n",
      "Unique customers in train dataset:  37241\n",
      "Unique products in train dataset:  5513\n",
      "Unique customers in test dataset:  37241\n",
      "Unique products in test dataset:  5454\n"
     ]
    }
   ],
   "source": [
    "print(\"Training dataset shape: \", X_train.shape)\n",
    "print(\"Test dataset shape: \", X_test.shape)\n",
    "print(\"Unique customers in train dataset: \", X_train.customer_id.unique().size)\n",
    "print(\"Unique products in train dataset: \", X_train.product_id.unique().size)\n",
    "print(\"Unique customers in test dataset: \", X_test.customer_id.unique().size)\n",
    "print(\"Unique products in test dataset: \", X_test.product_id.unique().size)"
   ]
  },
  {
   "cell_type": "markdown",
   "metadata": {},
   "source": [
    "# 4. Recommendation methods <a name=\"recommendation\"></a>"
   ]
  },
  {
   "cell_type": "markdown",
   "metadata": {},
   "source": [
    "Recommendation problem is treated as a prediction problem where the system predicts what rating a user will give to an item. If the recommender system is able to predict the rating accurately, it will be able to give great recommendations. There are two major paradigms of recommender systems : collaborative and content based methods. Out of the five models, the three models: CF using KNN, CF using KMeans and Matrix Factorisation using ALS are colloborative based methods. They will be discussed in the later sections. The first model that we can analyse is the Popularity based method which will be treated as the baseline for other methods. To evaluate the performance of all models we will measure the ratings prediction accuracy using Root Mean Squared Error (RMSE) , Mean Absolute Error (MAE) and Mean Squared error (MSE).\n"
   ]
  },
  {
   "cell_type": "markdown",
   "metadata": {},
   "source": [
    "## Model 1 - Popularity Based Method (Baseline) <a name=\"baseline\"></a>"
   ]
  },
  {
   "cell_type": "markdown",
   "metadata": {},
   "source": [
    "Popularity based recommendation system works with the trend. In this recommendation technique, items are recommended to users based on how popular those items are among other users. The assumption here is that the products that have the most number of ratings or reviews are the most popular. Below plot shows that the ratings of products in our dataset are on a higher side with mean rating lying in the range of 4 and 4.5. In this model, to predict the rating of a product by a customer, we will simply return the average rating of that product.\n",
    "The problems with popularity based recommendation system is that the personalization is not available with this method. It doesn't take into account user personal tastes and recommendations are same to all users."
   ]
  },
  {
   "cell_type": "code",
   "execution_count": 20,
   "metadata": {},
   "outputs": [
    {
     "data": {
      "text/plain": [
       "<matplotlib.axes._subplots.AxesSubplot at 0x276777e6240>"
      ]
     },
     "execution_count": 20,
     "metadata": {},
     "output_type": "execute_result"
    },
    {
     "data": {
      "image/png": "[encoded data removed]",
      "text/plain": [
       "<Figure size 432x288 with 1 Axes>"
      ]
     },
     "metadata": {
      "needs_background": "light"
     },
     "output_type": "display_data"
    }
   ],
   "source": [
    "X_train = pd.read_csv(os.path.join(project_dir, \"X_train.csv\"), header=0, engine='python')\n",
    "X_test = pd.read_csv(os.path.join(project_dir, \"X_test.csv\"), header=0, engine='python')\n",
    "y_train = pd.read_csv(os.path.join(project_dir, \"y_train.csv\"), header=0, engine='python')\n",
    "y_test = pd.read_csv(os.path.join(project_dir, \"y_test.csv\"), header=0, engine='python')  \n",
    "ratings_mean_count = pd.DataFrame(X_train.groupby('product_id')['star_rating'].mean())\n",
    "ratings_mean_count['rating_counts'] = pd.DataFrame(X_train.groupby('product_id')['star_rating'].count())\n",
    "plt.figure(figsize=(6,4))\n",
    "plt.rcParams['patch.force_edgecolor'] = True\n",
    "plt.title(\"Mean ratings distribution\")\n",
    "ratings_mean_count['star_rating'].hist(bins=50)"
   ]
  },
  {
   "cell_type": "code",
   "execution_count": 16,
   "metadata": {},
   "outputs": [],
   "source": [
    "import numpy as np\n",
    "from sklearn.metrics import mean_absolute_error\n",
    "from sklearn.metrics import mean_squared_error\n",
    "\n",
    "# function to compute the root mean squared error (or RMSE)\n",
    "def rmse(y_true, y_pred):    \n",
    "    return np.sqrt(mean_squared_error(y_true, y_pred))\n",
    "\n",
    "# function to compute the mean squared error (or MSE)\n",
    "def mse(y_true, y_pred):    \n",
    "    return mean_squared_error(y_true, y_pred)\n",
    "\n",
    "# function to compute the mean absolute error (or MSE)\n",
    "def mae(y_true, y_pred):    \n",
    "    return mean_absolute_error(y_true, y_pred)\n",
    "\n",
    "# function to compute the evaluation scores obtained on the testing set by a model\n",
    "def score(model):\n",
    "    # Predict the rating for every customer-product in X_test  \n",
    "    test = X_test.apply(lambda row: model.getPredictions(row['customer_id'], row['product_id']), axis=1)\n",
    "    # Return the final score \n",
    "    true = np.array(X_test['star_rating'])\n",
    "    pred = np.array(test)\n",
    "    rms =  rmse(true, pred)\n",
    "    ms  =  mse(true, pred)\n",
    "    ma = mae(true, pred)\n",
    "    return rms, ms, ma\n",
    "\n",
    "class Baseline:    \n",
    "    # return average rating of the product in the system\n",
    "    def getPredictions(self, customer_id, product_id):\n",
    "        #Check if product_id exists in X_train\n",
    "        if product_id in X_train['product_id']:\n",
    "            #Compute the mean of all the ratings given to the product_id\n",
    "            mean_rating = X_train[X_train.product_id == product_id]['star_rating'].mean()\n",
    "        else:        \n",
    "            #Default to a rating of 3.0 in the absence of any information\n",
    "            mean_rating = 3.0        \n",
    "        return mean_rating\n",
    "     \n",
    "    # return top N recommendations from X_train\n",
    "    def getNRecommendations(self, n, customer_id):\n",
    "        popular_products = pd.DataFrame(X_train.groupby(['product_id','product_title','product_category'])['star_rating'].count()).reset_index()        \n",
    "        popular_products['mean_rating'] = pd.DataFrame(X_train.groupby(['product_id','product_category','product_title'])['star_rating'].mean()).reset_index()['star_rating']\n",
    "        popular_products.columns = ['product_id','product_title','product_category','reviews_count','mean_rating']\n",
    "        most_popular = popular_products.sort_values(['mean_rating','reviews_count'], ascending=False)\n",
    "        return most_popular.head(n)"
   ]
  },
  {
   "cell_type": "markdown",
   "metadata": {},
   "source": [
    "### Evaluation"
   ]
  },
  {
   "cell_type": "code",
   "execution_count": 17,
   "metadata": {},
   "outputs": [
    {
     "name": "stdout",
     "output_type": "stream",
     "text": [
      "Results using Popularity based model:\n",
      "\n",
      "Root Mean Square Error:  1.7436337099458434\n",
      "Mean Square Error:  3.0402585144595053\n",
      "Mean Absolute Error:  1.6302797514485725\n"
     ]
    }
   ],
   "source": [
    "baseline = Baseline()\n",
    "rms, ms, ma = score(baseline)\n",
    "print(\"Results using Popularity based model:\\n\")\n",
    "print(\"Root Mean Square Error: \", rms)\n",
    "print(\"Mean Square Error: \", ms)\n",
    "print(\"Mean Absolute Error: \", ma)"
   ]
  },
  {
   "cell_type": "code",
   "execution_count": 18,
   "metadata": {},
   "outputs": [
    {
     "data": {
      "text/html": [
       "<div>\n",
       "<style scoped>\n",
       "    .dataframe tbody tr th:only-of-type {\n",
       "        vertical-align: middle;\n",
       "    }\n",
       "\n",
       "    .dataframe tbody tr th {\n",
       "        vertical-align: top;\n",
       "    }\n",
       "\n",
       "    .dataframe thead th {\n",
       "        text-align: right;\n",
       "    }\n",
       "</style>\n",
       "<table border=\"1\" class=\"dataframe\">\n",
       "  <thead>\n",
       "    <tr style=\"text-align: right;\">\n",
       "      <th></th>\n",
       "      <th>product_id</th>\n",
       "      <th>product_title</th>\n",
       "      <th>product_category</th>\n",
       "      <th>reviews_count</th>\n",
       "      <th>mean_rating</th>\n",
       "    </tr>\n",
       "  </thead>\n",
       "  <tbody>\n",
       "    <tr>\n",
       "      <th>338</th>\n",
       "      <td>B00029U1DU</td>\n",
       "      <td>Verbatim 700MB 52X 80 Minute Branded Recordabl...</td>\n",
       "      <td>Electronics</td>\n",
       "      <td>45</td>\n",
       "      <td>5.0</td>\n",
       "    </tr>\n",
       "    <tr>\n",
       "      <th>2448</th>\n",
       "      <td>B0036OQU2E</td>\n",
       "      <td>Copco Non-Skid Cabinet Turntable</td>\n",
       "      <td>Home</td>\n",
       "      <td>31</td>\n",
       "      <td>5.0</td>\n",
       "    </tr>\n",
       "    <tr>\n",
       "      <th>55</th>\n",
       "      <td>B00005113L</td>\n",
       "      <td>Cables To Go 18 AWG Universal Power Cord, IEC3...</td>\n",
       "      <td>Electronics</td>\n",
       "      <td>30</td>\n",
       "      <td>5.0</td>\n",
       "    </tr>\n",
       "    <tr>\n",
       "      <th>391</th>\n",
       "      <td>B0002XD08Y</td>\n",
       "      <td>simplehuman Under-Counter Pull-Out Trash Can, ...</td>\n",
       "      <td>Home</td>\n",
       "      <td>29</td>\n",
       "      <td>5.0</td>\n",
       "    </tr>\n",
       "    <tr>\n",
       "      <th>3559</th>\n",
       "      <td>B005LJQO9G</td>\n",
       "      <td>HDMI-DVI Cables</td>\n",
       "      <td>Electronics</td>\n",
       "      <td>25</td>\n",
       "      <td>5.0</td>\n",
       "    </tr>\n",
       "    <tr>\n",
       "      <th>1803</th>\n",
       "      <td>B001MSU1HQ</td>\n",
       "      <td>Mediabridge RCA Component Video Cable with Audio</td>\n",
       "      <td>Electronics</td>\n",
       "      <td>23</td>\n",
       "      <td>5.0</td>\n",
       "    </tr>\n",
       "    <tr>\n",
       "      <th>4657</th>\n",
       "      <td>B00BWJCCI6</td>\n",
       "      <td>Sizzix Big Shot Cutting and Embossing Roller S...</td>\n",
       "      <td>Home</td>\n",
       "      <td>22</td>\n",
       "      <td>5.0</td>\n",
       "    </tr>\n",
       "    <tr>\n",
       "      <th>640</th>\n",
       "      <td>B000CR38Y6</td>\n",
       "      <td>Willow Tree Promise</td>\n",
       "      <td>Home</td>\n",
       "      <td>17</td>\n",
       "      <td>5.0</td>\n",
       "    </tr>\n",
       "    <tr>\n",
       "      <th>1217</th>\n",
       "      <td>B000WV1XGC</td>\n",
       "      <td>Clover Large Pom Pom Maker</td>\n",
       "      <td>Home</td>\n",
       "      <td>15</td>\n",
       "      <td>5.0</td>\n",
       "    </tr>\n",
       "    <tr>\n",
       "      <th>5490</th>\n",
       "      <td>B00RH340WM</td>\n",
       "      <td>French Coffee &amp; TeaMaker Complete Bundle | 34 ...</td>\n",
       "      <td>Home</td>\n",
       "      <td>15</td>\n",
       "      <td>5.0</td>\n",
       "    </tr>\n",
       "  </tbody>\n",
       "</table>\n",
       "</div>"
      ],
      "text/plain": [
       "      product_id                                      product_title  \\\n",
       "338   B00029U1DU  Verbatim 700MB 52X 80 Minute Branded Recordabl...   \n",
       "2448  B0036OQU2E                   Copco Non-Skid Cabinet Turntable   \n",
       "55    B00005113L  Cables To Go 18 AWG Universal Power Cord, IEC3...   \n",
       "391   B0002XD08Y  simplehuman Under-Counter Pull-Out Trash Can, ...   \n",
       "3559  B005LJQO9G                                    HDMI-DVI Cables   \n",
       "1803  B001MSU1HQ   Mediabridge RCA Component Video Cable with Audio   \n",
       "4657  B00BWJCCI6  Sizzix Big Shot Cutting and Embossing Roller S...   \n",
       "640   B000CR38Y6                                Willow Tree Promise   \n",
       "1217  B000WV1XGC                         Clover Large Pom Pom Maker   \n",
       "5490  B00RH340WM  French Coffee & TeaMaker Complete Bundle | 34 ...   \n",
       "\n",
       "     product_category  reviews_count  mean_rating  \n",
       "338       Electronics             45          5.0  \n",
       "2448             Home             31          5.0  \n",
       "55        Electronics             30          5.0  \n",
       "391              Home             29          5.0  \n",
       "3559      Electronics             25          5.0  \n",
       "1803      Electronics             23          5.0  \n",
       "4657             Home             22          5.0  \n",
       "640              Home             17          5.0  \n",
       "1217             Home             15          5.0  \n",
       "5490             Home             15          5.0  "
      ]
     },
     "execution_count": 18,
     "metadata": {},
     "output_type": "execute_result"
    }
   ],
   "source": [
    "baseline.getNRecommendations(10, 13343)"
   ]
  },
  {
   "cell_type": "markdown",
   "metadata": {},
   "source": [
    "## Model 2 - Collaborative filtering using KNN <a name=\"cf_knn\"></a>"
   ]
  },
  {
   "cell_type": "markdown",
   "metadata": {},
   "source": [
    "Colloborative filtering is a method of making automatic predictions (filtering) about the interests of a user by collecting preferences or taste information from many users (colloborating) [from Wikipedia]. This technique is based on the assumption that users who have agreed in the past tend to also agree in future.  \n",
    "<img src=\"CF1.png\"  width=\"450\" height=\"450\" align=\"center\">  \n",
    "\n",
    "The data is divided into two categories users and the items. The ratings given by users to the items are collected in a matrix called utility matrix or user-item matrix. The resulting matrix is sparse and is filled with zero for all the missing values.  \n",
    "The two approaches for colloborating filtering are <b>User-based</b> and <b>Item-based</b>. Item-based collaborative filtering was developed by Amazon. In a system where there are more users than items, item-based filtering is faster and more stable than user-based. It is effective because usually, the average rating received by an item doesn’t change as quickly as the average rating given by a user to different items.<img src=\"UI.png\"  width=\"450\" height=\"450\" align=\"center\"> \n"
   ]
  },
  {
   "cell_type": "markdown",
   "metadata": {},
   "source": [
    "### User-based approach <a name=\"cf_knn_user\"></a>"
   ]
  },
  {
   "cell_type": "markdown",
   "metadata": {},
   "source": [
    "In the implementation of user-based colloborative filtering using KNN recommendation technique, the customers are placed in rows and the products are placed in columns of the utility matrix. There are 37241 customers and 5541 products in our filtered dataset. Using nearest neighbors size as 20 (k = 20), the score of the model is calculated. So, if we want to predict what rating will user u1 give to item i1 then closest 20 neighbors of u1 are computed who rated item i1 and based on those ratings final rating of u1 is predicted."
   ]
  },
  {
   "cell_type": "code",
   "execution_count": 22,
   "metadata": {},
   "outputs": [],
   "source": [
    "from scipy.sparse import csr_matrix\n",
    "from sklearn.neighbors import NearestNeighbors\n",
    "\n",
    "#User Based Collaborative Filter using Nearest Neighbours\n",
    "class CollaborativeUserKNN:\n",
    "    def __init__(self):\n",
    "        self.knn =  NearestNeighbors(metric='cosine', algorithm='brute')\n",
    "        \n",
    "    def fit(self, data):\n",
    "        self.nbrs = self.knn.fit(data)\n",
    "        \n",
    "    def getNeighbors(self, data, k):\n",
    "        distances,indices = self.nbrs.kneighbors(data, n_neighbors = k)\n",
    "        return distances,indices\n",
    "    \n",
    "    def getPredictions(self, customer_id, product_id):\n",
    "         #Check if product_id exists in r_matrix\n",
    "        if product_id in r_matrix:\n",
    "            #Get distances of all the users\n",
    "            distances,indices =  self.getNeighbors(r_matrix.loc[customer_id,:].values.reshape(1,-1),20)\n",
    "            sample = pd.DataFrame([distances.flatten(),indices.flatten()]).T\n",
    "            sample.columns = ['distance', 'customer_id']\n",
    "            sample = sample.astype({\"customer_id\": int}) \n",
    "            sample['customer_id'] = sample['customer_id'].apply(lambda x: r_matrix.iloc[x].name)\n",
    "            s = 0.0\n",
    "            cnt = 0\n",
    "            for c in sample['customer_id']:\n",
    "                val = r_matrix.loc[c, product_id]\n",
    "                if val > 0:\n",
    "                    s += val\n",
    "                    cnt += 1\n",
    "            if s == 0.0: \n",
    "                mean_rating = 3.0\n",
    "            else:\n",
    "                mean_rating = round(s/cnt,1)\n",
    "        else:        \n",
    "            #Default to a rating of 3.0 in the absence of any information\n",
    "            mean_rating = 3.0        \n",
    "        return mean_rating\n",
    "    \n",
    "    def getNRecommendations(self, n, customer_id):\n",
    "        # get customer index\n",
    "        r_mat = r_matrix.reset_index()\n",
    "        idx = r_mat[r_mat.customer_id == customer_id].index.values[0]\n",
    "        # get all products customer not reviwed\n",
    "        plist = r_mat.iloc[idx,:][map(lambda x :x not in ['customer_id'], list(r_mat.columns))].to_frame().reset_index()\n",
    "        r_mat = pd.DataFrame()\n",
    "        plist.columns = ['product', 'rating']\n",
    "        plist = np.array(plist[plist.rating==0]['product'])\n",
    "        rec = []\n",
    "        for product in plist:\n",
    "            rec.append([product, self.getPredictions(customer_id, product)])\n",
    "        rec = pd.DataFrame(rec, columns=['product_id','rating'])\n",
    "        \n",
    "        def getCount(p):\n",
    "            return np.count_nonzero(r_matrix.loc[:,[p]])\n",
    "        rec['count'] =  rec['product_id'].apply(getCount)\n",
    "        most_popular = rec.sort_values(['rating','count'],ascending=False).iloc[:n,:]\n",
    "        most_popular = pd.merge(most_popular, product_data[['product_id', 'product_title', 'product_category']],\n",
    "                how='left', on=['product_id'])\n",
    "        return most_popular \n",
    "    \n",
    "X_train = pd.read_csv(os.path.join(project_dir, \"X_train.csv\"), header=0, engine='python')\n",
    "X_test = pd.read_csv(os.path.join(project_dir, \"X_test.csv\"), header=0, engine='python')\n",
    "y_train = pd.read_csv(os.path.join(project_dir, \"y_train.csv\"), header=0, engine='python')\n",
    "y_test = pd.read_csv(os.path.join(project_dir, \"y_test.csv\"), header=0, engine='python') \n",
    "product_data = pd.DataFrame(X_train.groupby(['product_id', 'product_category', 'product_title'])['star_rating'].count()).reset_index().loc[:,['product_id', 'product_category', 'product_title']]\n"
   ]
  },
  {
   "cell_type": "code",
   "execution_count": 23,
   "metadata": {},
   "outputs": [],
   "source": [
    "# Build the ratings matrix\n",
    "r_matrix = X_train.groupby(['customer_id','product_id'])['star_rating'].min().unstack('product_id', fill_value=0)\n",
    "knn = CollaborativeUserKNN()\n",
    "knn.fit(csr_matrix(r_matrix.values))"
   ]
  },
  {
   "cell_type": "code",
   "execution_count": 24,
   "metadata": {},
   "outputs": [
    {
     "name": "stdout",
     "output_type": "stream",
     "text": [
      "Results using CF-KNN model:\n",
      "\n",
      "Root Mean Square Error:  1.7279297810470957\n",
      "Mean Square Error:  2.985741328229464\n",
      "Mean Absolute Error:  1.5828032825568286\n"
     ]
    }
   ],
   "source": [
    "rms, ms, ma = score(knn)\n",
    "print(\"Results using user-based CF-KNN model:\\n\")\n",
    "print(\"Root Mean Square Error: \", rms)\n",
    "print(\"Mean Square Error: \", ms)\n",
    "print(\"Mean Absolute Error: \", ma)"
   ]
  },
  {
   "cell_type": "code",
   "execution_count": 25,
   "metadata": {},
   "outputs": [
    {
     "data": {
      "text/html": [
       "<div>\n",
       "<style scoped>\n",
       "    .dataframe tbody tr th:only-of-type {\n",
       "        vertical-align: middle;\n",
       "    }\n",
       "\n",
       "    .dataframe tbody tr th {\n",
       "        vertical-align: top;\n",
       "    }\n",
       "\n",
       "    .dataframe thead th {\n",
       "        text-align: right;\n",
       "    }\n",
       "</style>\n",
       "<table border=\"1\" class=\"dataframe\">\n",
       "  <thead>\n",
       "    <tr style=\"text-align: right;\">\n",
       "      <th></th>\n",
       "      <th>product_id</th>\n",
       "      <th>rating</th>\n",
       "      <th>count</th>\n",
       "      <th>product_title</th>\n",
       "      <th>product_category</th>\n",
       "    </tr>\n",
       "  </thead>\n",
       "  <tbody>\n",
       "    <tr>\n",
       "      <th>0</th>\n",
       "      <td>B003L1ZYYW</td>\n",
       "      <td>5.0</td>\n",
       "      <td>296</td>\n",
       "      <td>AmazonBasics High Speed HDMI Cable</td>\n",
       "      <td>Electronics</td>\n",
       "    </tr>\n",
       "    <tr>\n",
       "      <th>1</th>\n",
       "      <td>B002HFA5F6</td>\n",
       "      <td>5.0</td>\n",
       "      <td>117</td>\n",
       "      <td>Hoover Vacuum Cleaner T-Series WindTunnel Pet ...</td>\n",
       "      <td>Home</td>\n",
       "    </tr>\n",
       "    <tr>\n",
       "      <th>2</th>\n",
       "      <td>B0019FOUQ0</td>\n",
       "      <td>5.0</td>\n",
       "      <td>113</td>\n",
       "      <td>Whitmor Over-The-Door Shoe Rack, 36-Pair, White</td>\n",
       "      <td>Home</td>\n",
       "    </tr>\n",
       "    <tr>\n",
       "      <th>3</th>\n",
       "      <td>B003PWS9AI</td>\n",
       "      <td>5.0</td>\n",
       "      <td>86</td>\n",
       "      <td>SafeRest Premium Hypoallergenic Waterproof Mat...</td>\n",
       "      <td>Home</td>\n",
       "    </tr>\n",
       "    <tr>\n",
       "      <th>4</th>\n",
       "      <td>B00451BNUG</td>\n",
       "      <td>5.0</td>\n",
       "      <td>63</td>\n",
       "      <td>InterDesign Classico - Free Standing Toilet Pa...</td>\n",
       "      <td>Home</td>\n",
       "    </tr>\n",
       "    <tr>\n",
       "      <th>5</th>\n",
       "      <td>B003EXSTXA</td>\n",
       "      <td>5.0</td>\n",
       "      <td>62</td>\n",
       "      <td>GREEN LABEL 1 &amp; 1/4 INCH DELUXE FLOOR BRUSH</td>\n",
       "      <td>Home</td>\n",
       "    </tr>\n",
       "    <tr>\n",
       "      <th>6</th>\n",
       "      <td>B0014SQVKK</td>\n",
       "      <td>5.0</td>\n",
       "      <td>59</td>\n",
       "      <td>Kirby Vacuum Cleaner Belts</td>\n",
       "      <td>Home</td>\n",
       "    </tr>\n",
       "    <tr>\n",
       "      <th>7</th>\n",
       "      <td>B000PS8QTO</td>\n",
       "      <td>5.0</td>\n",
       "      <td>49</td>\n",
       "      <td>Zenith Tension Shower Rod</td>\n",
       "      <td>Home</td>\n",
       "    </tr>\n",
       "    <tr>\n",
       "      <th>8</th>\n",
       "      <td>B0041D7OSS</td>\n",
       "      <td>5.0</td>\n",
       "      <td>37</td>\n",
       "      <td>Casabella Toilet Bowl Brush with Holder Set</td>\n",
       "      <td>Home</td>\n",
       "    </tr>\n",
       "    <tr>\n",
       "      <th>9</th>\n",
       "      <td>B005EVVMMA</td>\n",
       "      <td>5.0</td>\n",
       "      <td>35</td>\n",
       "      <td>Bluecell Black/Blue/Pink Earphone in-ear Hard ...</td>\n",
       "      <td>Electronics</td>\n",
       "    </tr>\n",
       "  </tbody>\n",
       "</table>\n",
       "</div>"
      ],
      "text/plain": [
       "   product_id  rating  count  \\\n",
       "0  B003L1ZYYW     5.0    296   \n",
       "1  B002HFA5F6     5.0    117   \n",
       "2  B0019FOUQ0     5.0    113   \n",
       "3  B003PWS9AI     5.0     86   \n",
       "4  B00451BNUG     5.0     63   \n",
       "5  B003EXSTXA     5.0     62   \n",
       "6  B0014SQVKK     5.0     59   \n",
       "7  B000PS8QTO     5.0     49   \n",
       "8  B0041D7OSS     5.0     37   \n",
       "9  B005EVVMMA     5.0     35   \n",
       "\n",
       "                                       product_title product_category  \n",
       "0                 AmazonBasics High Speed HDMI Cable      Electronics  \n",
       "1  Hoover Vacuum Cleaner T-Series WindTunnel Pet ...             Home  \n",
       "2    Whitmor Over-The-Door Shoe Rack, 36-Pair, White             Home  \n",
       "3  SafeRest Premium Hypoallergenic Waterproof Mat...             Home  \n",
       "4  InterDesign Classico - Free Standing Toilet Pa...             Home  \n",
       "5        GREEN LABEL 1 & 1/4 INCH DELUXE FLOOR BRUSH             Home  \n",
       "6                         Kirby Vacuum Cleaner Belts             Home  \n",
       "7                          Zenith Tension Shower Rod             Home  \n",
       "8        Casabella Toilet Bowl Brush with Holder Set             Home  \n",
       "9  Bluecell Black/Blue/Pink Earphone in-ear Hard ...      Electronics  "
      ]
     },
     "execution_count": 25,
     "metadata": {},
     "output_type": "execute_result"
    }
   ],
   "source": [
    "knn.getNRecommendations(10, 13343)"
   ]
  },
  {
   "cell_type": "markdown",
   "metadata": {},
   "source": [
    "### Item-based approach  <a name=\"cf_knn_item\"></a>"
   ]
  },
  {
   "cell_type": "markdown",
   "metadata": {},
   "source": [
    "In the item-based implementation of colloborative filtering using KNN, the utility matrix formulation has products placed in the rows and customers in the columns. To predict the rating of user u1 for item i1, the model tries to find 20 nearest  neighbors of item i1 that have been rated by user u1 and based on those ratings the rating for i1 is predicted."
   ]
  },
  {
   "cell_type": "code",
   "execution_count": 119,
   "metadata": {},
   "outputs": [],
   "source": [
    "class CollaborativeItemKNN:\n",
    "    def __init__(self):\n",
    "        self.knn =  NearestNeighbors(metric='cosine', algorithm='brute')\n",
    "        \n",
    "    def fit(self, data):\n",
    "        self.nbrs = self.knn.fit(data)\n",
    "        \n",
    "    def getNeighbors(self, data, k):\n",
    "        distances,indices = self.nbrs.kneighbors(data, n_neighbors = k)\n",
    "        return distances,indices\n",
    "    \n",
    "    def getPredictions(self, customer_id, product_id):\n",
    "        mean_rating = 3.0 \n",
    "\n",
    "         #Check if customer_id exists in r_matrix\n",
    "        if customer_id in r_matrix:\n",
    "            # get all products customer reviewed\n",
    "            plist = X_train[X_train.customer_id == customer_id]['product_id'].to_frame()\n",
    "            def cosine_distance(pro):\n",
    "                return cosine(r_matrix.loc[product_id,:].values.reshape(1,-1), \n",
    "                                                                r_matrix.loc[pro,:].values.reshape(1,-1))\n",
    "            # get all simmilar products to the current product\n",
    "            plist.loc[:,'distance'] = plist['product_id'].apply(cosine_distance)\n",
    "\n",
    "            #get all products distances\n",
    "            plist.loc[:,'rating'] = plist.loc[:,'product_id'].apply(lambda x: r_matrix.loc[x,customer_id])\n",
    "            plist.sort_values(by='distance', ascending=True)\n",
    "            \n",
    "            # return mean rating of top 20\n",
    "            mean_rating = plist.head(20)['rating'].mean()\n",
    "        else:\n",
    "            mean_rating = 3.0\n",
    "        return mean_rating\n",
    "    \n",
    "    def getNRecommendations(self, n, customer_id):\n",
    "        # get customer index\n",
    "        plist = X_train[X_train.customer_id == customer_id]['product_id'].to_frame()\n",
    "        plist = X_train[~(X_train.product_id.isin(plist.product_id))]\n",
    "        plist = pd.DataFrame(plist.groupby(['product_id'])['star_rating'].count().reset_index())\n",
    "        rec = []\n",
    "        for product in np.array(plist.loc[:,'product_id']):\n",
    "            rec.append([product, self.getPredictions(customer_id, product)])\n",
    "        rec = pd.DataFrame(rec, columns=['product_id','rating'])\n",
    "\n",
    "        def getCount(p):\n",
    "            return plist[plist.product_id == p]['star_rating'].values[0]\n",
    "        rec['count'] =  rec['product_id'].apply(getCount)\n",
    "        most_popular = rec.sort_values(['rating','count'],ascending=False).iloc[:n,:]\n",
    "        most_popular = pd.merge(most_popular, product_data[['product_id', 'product_title', 'product_category']],\n",
    "                how='left', on=['product_id'])\n",
    "        return most_popular\n",
    "    \n",
    "X_train = pd.read_csv(os.path.join(project_dir, \"X_train1.csv\"), header=0, engine='python')\n",
    "X_test = pd.read_csv(os.path.join(project_dir, \"X_test1.csv\"), header=0, engine='python')\n",
    "y_train = pd.read_csv(os.path.join(project_dir, \"y_train1.csv\"), header=0, engine='python')\n",
    "y_test = pd.read_csv(os.path.join(project_dir, \"y_test1.csv\"), header=0, engine='python')\n",
    "product_data = pd.DataFrame(X_train.groupby(['product_id', 'product_category', 'product_title'])['star_rating'].count()).reset_index().loc[:,['product_id', 'product_category', 'product_title']]\n"
   ]
  },
  {
   "cell_type": "code",
   "execution_count": 120,
   "metadata": {},
   "outputs": [],
   "source": [
    "# Build the ratings matrix\n",
    "r_matrix = X_train.groupby(['product_id','customer_id'])['star_rating'].min().unstack('customer_id', fill_value=0)\n",
    "knn = CollaborativeItemKNN()\n",
    "knn.fit(csr_matrix(r_matrix.values))"
   ]
  },
  {
   "cell_type": "code",
   "execution_count": 107,
   "metadata": {},
   "outputs": [
    {
     "name": "stdout",
     "output_type": "stream",
     "text": [
      "Results using item-based CF-KNN model:\n",
      "\n",
      "Root Mean Square Error:  1.47272693450667\n",
      "Mean Square Error:  2.1689246236214133\n",
      "Mean Absolute Error:  1.0978313798765642\n"
     ]
    }
   ],
   "source": [
    "rms, ms, ma = score(knn)\n",
    "print(\"Results using item-based CF-KNN model:\\n\")\n",
    "print(\"Root Mean Square Error: \", rms)\n",
    "print(\"Mean Square Error: \", ms)\n",
    "print(\"Mean Absolute Error: \", ma)"
   ]
  },
  {
   "cell_type": "code",
   "execution_count": 121,
   "metadata": {},
   "outputs": [
    {
     "data": {
      "text/html": [
       "<div>\n",
       "<style scoped>\n",
       "    .dataframe tbody tr th:only-of-type {\n",
       "        vertical-align: middle;\n",
       "    }\n",
       "\n",
       "    .dataframe tbody tr th {\n",
       "        vertical-align: top;\n",
       "    }\n",
       "\n",
       "    .dataframe thead th {\n",
       "        text-align: right;\n",
       "    }\n",
       "</style>\n",
       "<table border=\"1\" class=\"dataframe\">\n",
       "  <thead>\n",
       "    <tr style=\"text-align: right;\">\n",
       "      <th></th>\n",
       "      <th>product_id</th>\n",
       "      <th>rating</th>\n",
       "      <th>count</th>\n",
       "      <th>product_title</th>\n",
       "      <th>product_category</th>\n",
       "    </tr>\n",
       "  </thead>\n",
       "  <tbody>\n",
       "    <tr>\n",
       "      <th>0</th>\n",
       "      <td>B003L1ZYYM</td>\n",
       "      <td>5.0</td>\n",
       "      <td>3232</td>\n",
       "      <td>AmazonBasics High-Speed HDMI Cable - 6.5 Feet ...</td>\n",
       "      <td>Electronics</td>\n",
       "    </tr>\n",
       "    <tr>\n",
       "      <th>1</th>\n",
       "      <td>B0002L5R78</td>\n",
       "      <td>5.0</td>\n",
       "      <td>1777</td>\n",
       "      <td>High Speed HDMI Cable (1.5 Feet) With Ethernet...</td>\n",
       "      <td>Electronics</td>\n",
       "    </tr>\n",
       "    <tr>\n",
       "      <th>2</th>\n",
       "      <td>B0013BKDO8</td>\n",
       "      <td>5.0</td>\n",
       "      <td>1490</td>\n",
       "      <td>AcuRite 00613 Humidity Monitor with Indoor The...</td>\n",
       "      <td>Home</td>\n",
       "    </tr>\n",
       "    <tr>\n",
       "      <th>3</th>\n",
       "      <td>B0052SCU8U</td>\n",
       "      <td>5.0</td>\n",
       "      <td>1401</td>\n",
       "      <td>AmazonBasics High Speed HDMI Cable</td>\n",
       "      <td>Electronics</td>\n",
       "    </tr>\n",
       "    <tr>\n",
       "      <th>4</th>\n",
       "      <td>B0012S4APK</td>\n",
       "      <td>5.0</td>\n",
       "      <td>1360</td>\n",
       "      <td>Cheetah APTMM2B TV Wall Mount for 20-75\" TVs u...</td>\n",
       "      <td>Electronics</td>\n",
       "    </tr>\n",
       "    <tr>\n",
       "      <th>5</th>\n",
       "      <td>B001TH7GSW</td>\n",
       "      <td>5.0</td>\n",
       "      <td>1349</td>\n",
       "      <td>AmazonBasics Digital Optical Audio Toslink Cab...</td>\n",
       "      <td>Electronics</td>\n",
       "    </tr>\n",
       "    <tr>\n",
       "      <th>6</th>\n",
       "      <td>B0019EHU8G</td>\n",
       "      <td>5.0</td>\n",
       "      <td>1348</td>\n",
       "      <td>Mediabridge ULTRA Series HDMI Cable (3 Foot) -...</td>\n",
       "      <td>Electronics</td>\n",
       "    </tr>\n",
       "    <tr>\n",
       "      <th>7</th>\n",
       "      <td>B003EM8008</td>\n",
       "      <td>5.0</td>\n",
       "      <td>1277</td>\n",
       "      <td>Panasonic ErgoFit In-Ear Earbud Headphone</td>\n",
       "      <td>Electronics</td>\n",
       "    </tr>\n",
       "    <tr>\n",
       "      <th>8</th>\n",
       "      <td>B000WYVBR0</td>\n",
       "      <td>5.0</td>\n",
       "      <td>1218</td>\n",
       "      <td>VideoSecu ML531BE TV Wall Mount for most 22\"-5...</td>\n",
       "      <td>Electronics</td>\n",
       "    </tr>\n",
       "    <tr>\n",
       "      <th>9</th>\n",
       "      <td>B000TKDQ5C</td>\n",
       "      <td>5.0</td>\n",
       "      <td>1109</td>\n",
       "      <td>Lasko Ceramic Heater with Adjustable Thermostat</td>\n",
       "      <td>Home</td>\n",
       "    </tr>\n",
       "  </tbody>\n",
       "</table>\n",
       "</div>"
      ],
      "text/plain": [
       "   product_id  rating  count  \\\n",
       "0  B003L1ZYYM     5.0   3232   \n",
       "1  B0002L5R78     5.0   1777   \n",
       "2  B0013BKDO8     5.0   1490   \n",
       "3  B0052SCU8U     5.0   1401   \n",
       "4  B0012S4APK     5.0   1360   \n",
       "5  B001TH7GSW     5.0   1349   \n",
       "6  B0019EHU8G     5.0   1348   \n",
       "7  B003EM8008     5.0   1277   \n",
       "8  B000WYVBR0     5.0   1218   \n",
       "9  B000TKDQ5C     5.0   1109   \n",
       "\n",
       "                                       product_title product_category  \n",
       "0  AmazonBasics High-Speed HDMI Cable - 6.5 Feet ...      Electronics  \n",
       "1  High Speed HDMI Cable (1.5 Feet) With Ethernet...      Electronics  \n",
       "2  AcuRite 00613 Humidity Monitor with Indoor The...             Home  \n",
       "3                 AmazonBasics High Speed HDMI Cable      Electronics  \n",
       "4  Cheetah APTMM2B TV Wall Mount for 20-75\" TVs u...      Electronics  \n",
       "5  AmazonBasics Digital Optical Audio Toslink Cab...      Electronics  \n",
       "6  Mediabridge ULTRA Series HDMI Cable (3 Foot) -...      Electronics  \n",
       "7          Panasonic ErgoFit In-Ear Earbud Headphone      Electronics  \n",
       "8  VideoSecu ML531BE TV Wall Mount for most 22\"-5...      Electronics  \n",
       "9    Lasko Ceramic Heater with Adjustable Thermostat             Home  "
      ]
     },
     "execution_count": 121,
     "metadata": {},
     "output_type": "execute_result"
    }
   ],
   "source": [
    "knn.getNRecommendations(10, 13343)"
   ]
  },
  {
   "cell_type": "markdown",
   "metadata": {},
   "source": [
    "## Model 3 - Collaborative filtering using Kmeans <a name=\"cf_kmeans\"></a>"
   ]
  },
  {
   "cell_type": "markdown",
   "metadata": {},
   "source": [
    "In the implementation of colloborative filtering using Kmeans clustering, the users are divided into k clusters based on their historical preferences. To predict the rating a user u1 will give to the item i1, first the cluster of u1 is found and the rating is predicted based on the ratings given by other users in the u1's cluster to item i1. <img src =\"cluster.png\" align = center width=\"150\" height=\"150\"></item>"
   ]
  },
  {
   "attachments": {},
   "cell_type": "markdown",
   "metadata": {},
   "source": [
    "The k clusters are defined such that total within-cluster variation (or error) is minimum. To choose an optimal value of k, there are some useful methods available such as Elbow method and the Silhouette method. In this project, I will use the average silhouette method to find optimal k.  \n",
    "The average silhouetee method determines how well each object lies within its cluster and its value ranges from -1 and 1. Higher the value of silhouette coefficient is better is the cluster choice. As shown in the below plot, the best silhouette score is obtained when cluster size is 2."
   ]
  },
  {
   "cell_type": "code",
   "execution_count": 34,
   "metadata": {},
   "outputs": [],
   "source": [
    "import math\n",
    "from sklearn.cluster import KMeans\n",
    "from sklearn.metrics import silhouette_samples, silhouette_score\n",
    "\n",
    "def clustering_errors(k, data):\n",
    "    kmeans = KMeans(n_clusters=k).fit(data)\n",
    "    predictions = kmeans.predict(data)\n",
    "    silhouette_avg = silhouette_score(data, predictions)\n",
    "    return silhouette_avg\n",
    "\n",
    "class kmeansClustering:\n",
    "    def __init__(self, k):\n",
    "        self.k = k\n",
    "        self.kmeans =  KMeans(n_clusters=k, algorithm='full')\n",
    "        \n",
    "    def fit(self, rmatrix):\n",
    "        self.kmeans.fit(rmatrix)\n",
    "        \n",
    "    def predict(self, rmatrix):\n",
    "        self.predictions = self.kmeans.fit_predict(rmatrix)\n",
    "        \n",
    "    def getCluster(self,customer_id):\n",
    "        cluster = r_matrix.loc[r_matrix.customer_id == 18521]['group']\n",
    "        return cluster.values[0]\n",
    "    \n",
    "    def getPredictions(self, customer_id, product_id):\n",
    "        mean_rating = 3\n",
    "        if product_id in r_matrix:\n",
    "            # get cluster of customer\n",
    "            cl = self.getCluster(customer_id)\n",
    "            # get product ratings of other customers in the cluster \n",
    "            mean_rating = r_matrix[(r_matrix['group'] == cl) & (r_matrix[product_id] > 0)][product_id].mean()\n",
    "            if math.isnan(float(mean_rating)) or mean_rating < 1:\n",
    "                mean_rating = 3\n",
    "        return mean_rating \n",
    "\n",
    "    def getNRecommendations(self, n, customer_id):\n",
    "        # get customer index\n",
    "        idx = r_matrix[r_matrix.customer_id == customer_id].index.values[0]\n",
    "        # get all products customer not reviwed\n",
    "        plist = r_matrix.iloc[idx,:][map(lambda x :x not in ['customer_id', 'group'], list(r_matrix.columns))].to_frame().reset_index()\n",
    "        plist.columns = ['product', 'rating']\n",
    "        plist = np.array(plist[plist.rating==0]['product'])\n",
    "        rec = []\n",
    "        for product in plist:\n",
    "            rec.append([product, self.getPredictions(customer_id, product)])\n",
    "        rec = pd.DataFrame(rec, columns=['product_id','rating'])\n",
    "        def getCount(p):\n",
    "            return np.count_nonzero(r_matrix.loc[:,[p]])\n",
    "        rec['count'] =  rec['product_id'].apply(getCount)\n",
    "        most_popular = rec.sort_values(['rating','count'],ascending=False).iloc[:n,:]\n",
    "        most_popular = pd.merge(most_popular, product_data[['product_id', 'product_title', 'product_category']],\n",
    "                how='left', on=['product_id'])\n",
    "        return most_popular \n",
    "    \n",
    "X_train = pd.read_csv(os.path.join(project_dir, \"X_train.csv\"), header=0, engine='python')\n",
    "X_test = pd.read_csv(os.path.join(project_dir, \"X_test.csv\"), header=0, engine='python')\n",
    "y_train = pd.read_csv(os.path.join(project_dir, \"y_train.csv\"), header=0, engine='python')\n",
    "y_test = pd.read_csv(os.path.join(project_dir, \"y_test.csv\"), header=0, engine='python') \n",
    "product_data = pd.DataFrame(X_train.groupby(['product_id', 'product_category', 'product_title'])['star_rating'].count()).reset_index().loc[:,['product_id', 'product_category', 'product_title']]\n",
    "    "
   ]
  },
  {
   "cell_type": "code",
   "execution_count": null,
   "metadata": {},
   "outputs": [],
   "source": [
    "# possible_k_values = range(2, 200, 5)\n",
    "# errors_per_k = [clustering_errors(k, csr_matrix(r_matrix.values)) for k in possible_k_values]"
   ]
  },
  {
   "cell_type": "code",
   "execution_count": 38,
   "metadata": {
    "slideshow": {
     "slide_type": "-"
    }
   },
   "outputs": [
    {
     "data": {
      "image/png": "[encoded data removed]",
      "text/plain": [
       "<Figure size 1296x288 with 1 Axes>"
      ]
     },
     "metadata": {
      "needs_background": "light"
     },
     "output_type": "display_data"
    }
   ],
   "source": [
    "fig, ax = plt.subplots(figsize=(18, 4))\n",
    "ax.set_xlabel('K - number of clusters')\n",
    "ax.set_ylabel('Silhouette Score (higher is better)')\n",
    "ax.plot(possible_k_values, errors_per_k)\n",
    "\n",
    "# Ticks and grid\n",
    "xticks = np.arange(min(possible_k_values), max(possible_k_values)+1, 5.0)\n",
    "ax.set_xticks(xticks, minor=False)\n",
    "ax.set_xticks(xticks, minor=True)\n",
    "ax.xaxis.grid(True, which='both')\n",
    "yticks = np.arange(round(min(errors_per_k), 2), max(errors_per_k), .05)\n",
    "ax.set_yticks(yticks, minor=False)\n",
    "ax.set_yticks(yticks, minor=True)\n",
    "ax.yaxis.grid(True, which='both')"
   ]
  },
  {
   "cell_type": "code",
   "execution_count": 31,
   "metadata": {},
   "outputs": [],
   "source": [
    "r_matrix = X_train.groupby(['customer_id', 'product_id'])['star_rating'].min().unstack('product_id', fill_value=0)\n",
    "kmeans = kmeansClustering(k=2)\n",
    "kmeans.predict(csr_matrix(r_matrix.values))"
   ]
  },
  {
   "cell_type": "code",
   "execution_count": 32,
   "metadata": {},
   "outputs": [
    {
     "name": "stdout",
     "output_type": "stream",
     "text": [
      "Results using CF-Kmeans model:\n",
      "\n",
      "Root Mean Square Error:  1.0924736820487508\n",
      "Mean Square Error:  1.1934987459691553\n",
      "Mean Absolute Error:  0.7964043099646887\n"
     ]
    }
   ],
   "source": [
    "r_matrix = pd.concat([r_matrix.reset_index(), pd.DataFrame({'group':kmeans.predictions})], axis=1)\n",
    "rms, ms, ma = score(kmeans)\n",
    "print(\"Results using CF-Kmeans model:\\n\")\n",
    "print(\"Root Mean Square Error: \", rms)\n",
    "print(\"Mean Square Error: \", ms)\n",
    "print(\"Mean Absolute Error: \", ma)"
   ]
  },
  {
   "cell_type": "code",
   "execution_count": 33,
   "metadata": {},
   "outputs": [
    {
     "data": {
      "text/html": [
       "<div>\n",
       "<style scoped>\n",
       "    .dataframe tbody tr th:only-of-type {\n",
       "        vertical-align: middle;\n",
       "    }\n",
       "\n",
       "    .dataframe tbody tr th {\n",
       "        vertical-align: top;\n",
       "    }\n",
       "\n",
       "    .dataframe thead th {\n",
       "        text-align: right;\n",
       "    }\n",
       "</style>\n",
       "<table border=\"1\" class=\"dataframe\">\n",
       "  <thead>\n",
       "    <tr style=\"text-align: right;\">\n",
       "      <th></th>\n",
       "      <th>product_id</th>\n",
       "      <th>rating</th>\n",
       "      <th>count</th>\n",
       "      <th>product_title</th>\n",
       "      <th>product_category</th>\n",
       "    </tr>\n",
       "  </thead>\n",
       "  <tbody>\n",
       "    <tr>\n",
       "      <th>0</th>\n",
       "      <td>B00029U1DU</td>\n",
       "      <td>5.0</td>\n",
       "      <td>45</td>\n",
       "      <td>Verbatim 700MB 52X 80 Minute Branded Recordabl...</td>\n",
       "      <td>Electronics</td>\n",
       "    </tr>\n",
       "    <tr>\n",
       "      <th>1</th>\n",
       "      <td>B0036OQU2E</td>\n",
       "      <td>5.0</td>\n",
       "      <td>31</td>\n",
       "      <td>Copco Non-Skid Cabinet Turntable</td>\n",
       "      <td>Home</td>\n",
       "    </tr>\n",
       "    <tr>\n",
       "      <th>2</th>\n",
       "      <td>B00005113L</td>\n",
       "      <td>5.0</td>\n",
       "      <td>30</td>\n",
       "      <td>Cables To Go 18 AWG Universal Power Cord, IEC3...</td>\n",
       "      <td>Electronics</td>\n",
       "    </tr>\n",
       "    <tr>\n",
       "      <th>3</th>\n",
       "      <td>B0002XD08Y</td>\n",
       "      <td>5.0</td>\n",
       "      <td>29</td>\n",
       "      <td>simplehuman Under-Counter Pull-Out Trash Can, ...</td>\n",
       "      <td>Home</td>\n",
       "    </tr>\n",
       "    <tr>\n",
       "      <th>4</th>\n",
       "      <td>B005LJQO9G</td>\n",
       "      <td>5.0</td>\n",
       "      <td>25</td>\n",
       "      <td>HDMI-DVI Cables</td>\n",
       "      <td>Electronics</td>\n",
       "    </tr>\n",
       "    <tr>\n",
       "      <th>5</th>\n",
       "      <td>B001MSU1HQ</td>\n",
       "      <td>5.0</td>\n",
       "      <td>23</td>\n",
       "      <td>Mediabridge RCA Component Video Cable with Audio</td>\n",
       "      <td>Electronics</td>\n",
       "    </tr>\n",
       "    <tr>\n",
       "      <th>6</th>\n",
       "      <td>B00BWJCCI6</td>\n",
       "      <td>5.0</td>\n",
       "      <td>22</td>\n",
       "      <td>Sizzix Big Shot Cutting and Embossing Roller S...</td>\n",
       "      <td>Home</td>\n",
       "    </tr>\n",
       "    <tr>\n",
       "      <th>7</th>\n",
       "      <td>B000CR38Y6</td>\n",
       "      <td>5.0</td>\n",
       "      <td>17</td>\n",
       "      <td>Willow Tree Promise</td>\n",
       "      <td>Home</td>\n",
       "    </tr>\n",
       "    <tr>\n",
       "      <th>8</th>\n",
       "      <td>B000WV1XGC</td>\n",
       "      <td>5.0</td>\n",
       "      <td>15</td>\n",
       "      <td>Clover Large Pom Pom Maker</td>\n",
       "      <td>Home</td>\n",
       "    </tr>\n",
       "    <tr>\n",
       "      <th>9</th>\n",
       "      <td>B00RH340WM</td>\n",
       "      <td>5.0</td>\n",
       "      <td>15</td>\n",
       "      <td>French Coffee &amp; TeaMaker Complete Bundle | 34 ...</td>\n",
       "      <td>Home</td>\n",
       "    </tr>\n",
       "  </tbody>\n",
       "</table>\n",
       "</div>"
      ],
      "text/plain": [
       "   product_id  rating  count  \\\n",
       "0  B00029U1DU     5.0     45   \n",
       "1  B0036OQU2E     5.0     31   \n",
       "2  B00005113L     5.0     30   \n",
       "3  B0002XD08Y     5.0     29   \n",
       "4  B005LJQO9G     5.0     25   \n",
       "5  B001MSU1HQ     5.0     23   \n",
       "6  B00BWJCCI6     5.0     22   \n",
       "7  B000CR38Y6     5.0     17   \n",
       "8  B000WV1XGC     5.0     15   \n",
       "9  B00RH340WM     5.0     15   \n",
       "\n",
       "                                       product_title product_category  \n",
       "0  Verbatim 700MB 52X 80 Minute Branded Recordabl...      Electronics  \n",
       "1                   Copco Non-Skid Cabinet Turntable             Home  \n",
       "2  Cables To Go 18 AWG Universal Power Cord, IEC3...      Electronics  \n",
       "3  simplehuman Under-Counter Pull-Out Trash Can, ...             Home  \n",
       "4                                    HDMI-DVI Cables      Electronics  \n",
       "5   Mediabridge RCA Component Video Cable with Audio      Electronics  \n",
       "6  Sizzix Big Shot Cutting and Embossing Roller S...             Home  \n",
       "7                                Willow Tree Promise             Home  \n",
       "8                         Clover Large Pom Pom Maker             Home  \n",
       "9  French Coffee & TeaMaker Complete Bundle | 34 ...             Home  "
      ]
     },
     "execution_count": 33,
     "metadata": {},
     "output_type": "execute_result"
    }
   ],
   "source": [
    "kmeans.getNRecommendations(10, 13343)"
   ]
  },
  {
   "cell_type": "code",
   "execution_count": 46,
   "metadata": {},
   "outputs": [],
   "source": [
    "r_matrix = X_train.groupby(['customer_id', 'product_id'])['star_rating'].min().unstack('product_id', fill_value=0)\n",
    "kmeans = kmeansClustering(k=37)\n",
    "kmeans.predict(csr_matrix(r_matrix.values))"
   ]
  },
  {
   "cell_type": "code",
   "execution_count": 47,
   "metadata": {},
   "outputs": [
    {
     "name": "stdout",
     "output_type": "stream",
     "text": [
      "Results using CF-Kmeans model:\n",
      "\n",
      "Root Mean Square Error:  1.5450806509212327\n",
      "Mean Square Error:  2.38727421785118\n",
      "Mean Absolute Error:  1.2377172366146751\n"
     ]
    }
   ],
   "source": [
    "r_matrix = pd.concat([r_matrix.reset_index(), pd.DataFrame({'group':kmeans.predictions})], axis=1)\n",
    "rms, ms, ma = score(kmeans)\n",
    "print(\"Results using CF-Kmeans model:\\n\")\n",
    "print(\"Root Mean Square Error: \", rms)\n",
    "print(\"Mean Square Error: \", ms)\n",
    "print(\"Mean Absolute Error: \", ma)"
   ]
  },
  {
   "cell_type": "code",
   "execution_count": 48,
   "metadata": {},
   "outputs": [
    {
     "data": {
      "text/html": [
       "<div>\n",
       "<style scoped>\n",
       "    .dataframe tbody tr th:only-of-type {\n",
       "        vertical-align: middle;\n",
       "    }\n",
       "\n",
       "    .dataframe tbody tr th {\n",
       "        vertical-align: top;\n",
       "    }\n",
       "\n",
       "    .dataframe thead th {\n",
       "        text-align: right;\n",
       "    }\n",
       "</style>\n",
       "<table border=\"1\" class=\"dataframe\">\n",
       "  <thead>\n",
       "    <tr style=\"text-align: right;\">\n",
       "      <th></th>\n",
       "      <th>product_id</th>\n",
       "      <th>rating</th>\n",
       "      <th>count</th>\n",
       "      <th>product_title</th>\n",
       "      <th>product_category</th>\n",
       "    </tr>\n",
       "  </thead>\n",
       "  <tbody>\n",
       "    <tr>\n",
       "      <th>0</th>\n",
       "      <td>B0052SCU8U</td>\n",
       "      <td>5.0</td>\n",
       "      <td>670</td>\n",
       "      <td>AmazonBasics High Speed HDMI Cable</td>\n",
       "      <td>Electronics</td>\n",
       "    </tr>\n",
       "    <tr>\n",
       "      <th>1</th>\n",
       "      <td>B00316263Y</td>\n",
       "      <td>5.0</td>\n",
       "      <td>407</td>\n",
       "      <td>BlueRigger Basic High Speed HDMI Cable - 6.6 F...</td>\n",
       "      <td>Electronics</td>\n",
       "    </tr>\n",
       "    <tr>\n",
       "      <th>2</th>\n",
       "      <td>B004QK7HI8</td>\n",
       "      <td>5.0</td>\n",
       "      <td>393</td>\n",
       "      <td>Mohu Leaf 30 TV Antenna, Indoor, 30 Mile Range...</td>\n",
       "      <td>Electronics</td>\n",
       "    </tr>\n",
       "    <tr>\n",
       "      <th>3</th>\n",
       "      <td>B0001FTVEK</td>\n",
       "      <td>5.0</td>\n",
       "      <td>378</td>\n",
       "      <td>Sennheiser On-Ear 926MHz Wireless RF Headphone...</td>\n",
       "      <td>Electronics</td>\n",
       "    </tr>\n",
       "    <tr>\n",
       "      <th>4</th>\n",
       "      <td>B001TH7T2U</td>\n",
       "      <td>5.0</td>\n",
       "      <td>316</td>\n",
       "      <td>AmazonBasics HDMI to DVI  Adapter Cable - 9.8 ...</td>\n",
       "      <td>Electronics</td>\n",
       "    </tr>\n",
       "    <tr>\n",
       "      <th>5</th>\n",
       "      <td>B00BEWF4R2</td>\n",
       "      <td>5.0</td>\n",
       "      <td>300</td>\n",
       "      <td>CABTE High speed HDMI 1.4 HDMI cable 10ft 1080...</td>\n",
       "      <td>Electronics</td>\n",
       "    </tr>\n",
       "    <tr>\n",
       "      <th>6</th>\n",
       "      <td>B001GTT0VO</td>\n",
       "      <td>5.0</td>\n",
       "      <td>296</td>\n",
       "      <td>Cheetah Mounts ALAMB Articulating Arm (15” Ext...</td>\n",
       "      <td>Electronics</td>\n",
       "    </tr>\n",
       "    <tr>\n",
       "      <th>7</th>\n",
       "      <td>B003L1ZYYW</td>\n",
       "      <td>5.0</td>\n",
       "      <td>296</td>\n",
       "      <td>AmazonBasics High Speed HDMI Cable</td>\n",
       "      <td>Electronics</td>\n",
       "    </tr>\n",
       "    <tr>\n",
       "      <th>8</th>\n",
       "      <td>B00004T8R2</td>\n",
       "      <td>5.0</td>\n",
       "      <td>258</td>\n",
       "      <td>Panasonic Lightweight Headphones with XBS Port</td>\n",
       "      <td>Electronics</td>\n",
       "    </tr>\n",
       "    <tr>\n",
       "      <th>9</th>\n",
       "      <td>B001A5PDKQ</td>\n",
       "      <td>5.0</td>\n",
       "      <td>258</td>\n",
       "      <td>Mediabridge ULTRA Series HDMI Cable (3 Foot) -...</td>\n",
       "      <td>Electronics</td>\n",
       "    </tr>\n",
       "  </tbody>\n",
       "</table>\n",
       "</div>"
      ],
      "text/plain": [
       "   product_id  rating  count  \\\n",
       "0  B0052SCU8U     5.0    670   \n",
       "1  B00316263Y     5.0    407   \n",
       "2  B004QK7HI8     5.0    393   \n",
       "3  B0001FTVEK     5.0    378   \n",
       "4  B001TH7T2U     5.0    316   \n",
       "5  B00BEWF4R2     5.0    300   \n",
       "6  B001GTT0VO     5.0    296   \n",
       "7  B003L1ZYYW     5.0    296   \n",
       "8  B00004T8R2     5.0    258   \n",
       "9  B001A5PDKQ     5.0    258   \n",
       "\n",
       "                                       product_title product_category  \n",
       "0                 AmazonBasics High Speed HDMI Cable      Electronics  \n",
       "1  BlueRigger Basic High Speed HDMI Cable - 6.6 F...      Electronics  \n",
       "2  Mohu Leaf 30 TV Antenna, Indoor, 30 Mile Range...      Electronics  \n",
       "3  Sennheiser On-Ear 926MHz Wireless RF Headphone...      Electronics  \n",
       "4  AmazonBasics HDMI to DVI  Adapter Cable - 9.8 ...      Electronics  \n",
       "5  CABTE High speed HDMI 1.4 HDMI cable 10ft 1080...      Electronics  \n",
       "6  Cheetah Mounts ALAMB Articulating Arm (15” Ext...      Electronics  \n",
       "7                 AmazonBasics High Speed HDMI Cable      Electronics  \n",
       "8     Panasonic Lightweight Headphones with XBS Port      Electronics  \n",
       "9  Mediabridge ULTRA Series HDMI Cable (3 Foot) -...      Electronics  "
      ]
     },
     "execution_count": 48,
     "metadata": {},
     "output_type": "execute_result"
    }
   ],
   "source": [
    "kmeans.getNRecommendations(10, 13343)"
   ]
  },
  {
   "cell_type": "markdown",
   "metadata": {},
   "source": [
    "## Model 4 - Matrix factorisation using ALS <a name=\"als\"></a>"
   ]
  },
  {
   "attachments": {},
   "cell_type": "markdown",
   "metadata": {},
   "source": [
    "The major problem faced by the colloborative based filtering is the sparisty of the user-item matrix. Ratings available are very limited and running KNN and Kmeans on such sparse matrix becomes unstable when there are large number of users and items in the system. In such scenarios, to effectively compute the missing values in the user-item matrix, matrix factorisation is used.  \n",
    "It is a dimensionality reduction method which decompose the user-item interaction matrix into the product of two lower dimensionality rectangular matrices. One matrix can be seen as the user matrix where rows represent users and columns are latent factors. The other matrix is the item matrix where rows are latent factors and columns represent items.  \n",
    "<img src =\"als.png\" align = center width=\"500\" height=\"500\"></img>  \n",
    "\n",
    "In this project, Alternating least squares method is used for the matrix factorisation. By multiplying U and V matrices, we try to reconstruct the original matrix R, by reducing the root mean squared errors between original available ratings from sparse matrix R (m x n dimensions) and constructed dense matrix by multiplying U (m x k dimensions) and V (k x n dimensions) matrices. ALS minimizes two loss functions alternatively; It first holds user matrix fixed and runs gradient descent with item matrix; then it holds item matrix fixed and runs gradient descent with user matrix. This way it is easy to parellelize.  \n",
    "\n"
   ]
  },
  {
   "cell_type": "code",
   "execution_count": 64,
   "metadata": {},
   "outputs": [],
   "source": [
    "def getUserItemMatrix(X_train):\n",
    "\n",
    "    print(\"Getting 'A' matrix with rows: user and columns: movies...\")\n",
    "    A = X_train.groupby(['customer_id','product_id'])['star_rating'].min().unstack('product_id', fill_value=0)\n",
    "\n",
    "    print(\"'A' matrix shape is\", A.shape)\n",
    "\n",
    "    print(\"Getting 'R' Binary Matrix of rating or no rating...\")\n",
    "    R = A>0; R[R == True] = 1; R[R == False] = 0; R = R.astype(np.float64, copy=False)\n",
    "\n",
    "    return A, R\n",
    "\n",
    "class ALSFiltering:  \n",
    "    def getPredictions(self, customer_id, product_id):\n",
    "        #Check if product_id exists in r_matrix\n",
    "        if product_id in A:\n",
    "            mean_rating = PR.loc[customer_id,product_id]\n",
    "        else:        \n",
    "            #Default to a rating of 3.0 in the absence of any information\n",
    "            mean_rating = 3.0 \n",
    "   \n",
    "        return mean_rating\n",
    "    \n",
    "    def runALS(self, A, R, n_factors, n_iterations, lambda_):\n",
    "        '''\n",
    "        Runs Alternating Least Squares algorithm in order to calculate matrix.\n",
    "        :param A: User-Item Matrix with ratings\n",
    "        :param R: User-Item Matrix with 1 if there is a rating or 0 if not\n",
    "        :param n_factors: How many factors each of user and item matrix will consider\n",
    "        :param n_iterations: How many times to run algorithm\n",
    "        :param lambda_: Regularization parameter\n",
    "        :return:\n",
    "        '''\n",
    "        print(\"Initiating \")\n",
    "        print(\"R shape\", R.shape)\n",
    "        lambda_ = lambda_; n_factors = n_factors; n, m = A.shape; n_iterations = n_iterations\n",
    "        Users = 3 * np.random.rand(n, n_factors)\n",
    "        Items = 3 * np.random.rand(n_factors, m)\n",
    "\n",
    "        def get_error(A, Users, Items, R):\n",
    "            # This calculates the MSE of nonzero elements\n",
    "            return np.sum((R * (A - np.dot(Users, Items))) ** 2) / np.sum(R)\n",
    "\n",
    "        MSE_List = []\n",
    "\n",
    "        print(\"Starting Iterations\")\n",
    "        for iter in range(n_iterations):\n",
    "            for i, Ri in enumerate(R):\n",
    "                nui = np.count_nonzero(Ri) # Number of items user i has rated\n",
    "                if (nui == 0): nui = 1 # Be aware of zero counts!\n",
    "                Ri_nonzero = np.nonzero(Ri)[0]\n",
    "                Items_Ri = Items[:, Ri_nonzero]\n",
    "                A_Ii = A[i, Ri_nonzero]\n",
    "                Ai = np.dot(Items_Ri, Items_Ri.T) + lambda_ * nui * np.eye(n_factors)\n",
    "                Vi = np.dot(Items_Ri, A_Ii.T)\n",
    "                Users[i] = np.linalg.solve(Ai, Vi).T\n",
    "            print(\"Error after solving for User Matrix:\", get_error(A, Users, Items, R))\n",
    "\n",
    "            for j, Rj in enumerate(R.T):\n",
    "                nmj = np.count_nonzero(Rj) # Number of users that rated item j\n",
    "                if (nmj == 0): nmj = 1 # Be aware of zero counts!\n",
    "                Rj_nonzero = np.nonzero(Rj)[0]\n",
    "                Users_Rj = Users.T[:, Rj_nonzero]\n",
    "                A_Rj = A[Rj_nonzero, j]\n",
    "                Aj = np.dot(Users_Rj, Users_Rj.T) + lambda_ * nmj * np.eye(n_factors)\n",
    "                Vj = np.dot(Users_Rj, A_Rj)\n",
    "                Items[:,j] = np.linalg.solve(Aj, Vj)\n",
    "            print(\"Error after solving for Item Matrix:\", get_error(A, Users, Items, R))\n",
    "\n",
    "            MSE_List.append(get_error(A, Users, Items, R))\n",
    "            print(\"%sth iteration is complete...\" % iter)\n",
    "\n",
    "        fig = plt.figure()\n",
    "        ax = fig.add_subplot(111)\n",
    "        plt.plot(range(1, len(MSE_List) + 1), MSE_List); plt.ylabel('Error'); plt.xlabel('Iteration')\n",
    "        plt.title('Python Implementation MSE by Iteration \\n with %d customers and %d products' % A.shape);\n",
    "        plt.show()\n",
    "        return Users, Items\n",
    "    \n",
    "    def getNRecommendations(self, n, customer_id):\n",
    "        r_matrix = A.reset_index()\n",
    "        # get customer index\n",
    "        idx = r_matrix[r_matrix.customer_id == customer_id].index.values[0]\n",
    "        # get all products customer not reviwed\n",
    "        plist = r_matrix.iloc[idx,:][map(lambda x :x not in ['product_id','customer_id'], list(r_matrix.columns))].to_frame().reset_index()\n",
    "        plist.columns = ['product', 'rating']\n",
    "        r_matrix = pd.DataFrame()\n",
    "        plist = np.array(plist[plist.rating==0]['product'])\n",
    "        rec = []\n",
    "        for product in plist:\n",
    "            rec.append([product, self.getPredictions(customer_id, product)])\n",
    "        rec = pd.DataFrame(rec, columns=['product_id','rating'])  \n",
    "        def getCount(p):\n",
    "            return np.count_nonzero(A.loc[:,[p]])\n",
    "        rec['count'] =  rec['product_id'].apply(getCount)\n",
    "        most_popular = rec.sort_values(['rating','count'],ascending=False).iloc[:n,:]\n",
    "        most_popular = pd.merge(most_popular, product_data[['product_id', 'product_title', 'product_category']],\n",
    "                how='left', on=['product_id'])\n",
    "        return most_popular\n",
    "\n",
    "X_train = pd.read_csv(os.path.join(project_dir, \"X_train.csv\"), header=0, engine='python')\n",
    "X_test = pd.read_csv(os.path.join(project_dir, \"X_test.csv\"), header=0, engine='python')\n",
    "y_train = pd.read_csv(os.path.join(project_dir, \"y_train.csv\"), header=0, engine='python')\n",
    "y_test = pd.read_csv(os.path.join(project_dir, \"y_test.csv\"), header=0, engine='python') \n",
    "product_data = pd.DataFrame(X_train.groupby(['product_id', 'product_category', 'product_title'])['star_rating'].count()).reset_index().loc[:,['product_id', 'product_category', 'product_title']]\n"
   ]
  },
  {
   "cell_type": "code",
   "execution_count": 51,
   "metadata": {},
   "outputs": [
    {
     "name": "stdout",
     "output_type": "stream",
     "text": [
      "Getting 'A' matrix with rows: user and columns: movies...\n",
      "'A' matrix shape is (37241, 5513)\n",
      "Getting 'R' Binary Matrix of rating or no rating...\n"
     ]
    }
   ],
   "source": [
    "A, R = getUserItemMatrix(X_train)\n",
    "review_data = pd.read_csv(os.path.join(project_dir, \"X_train.csv\"), header=0, engine='python', usecols=['review_id', 'product_id', 'product_category', 'product_title'])"
   ]
  },
  {
   "cell_type": "code",
   "execution_count": 52,
   "metadata": {},
   "outputs": [
    {
     "name": "stdout",
     "output_type": "stream",
     "text": [
      "Initiating \n",
      "R shape (37241, 5513)\n",
      "Starting Iterations\n",
      "Error after solving for User Matrix: 0.15742669266867437\n",
      "Error after solving for Item Matrix: 0.38324974157150365\n",
      "0th iteration is complete...\n",
      "Error after solving for User Matrix: 0.09643889938529947\n",
      "Error after solving for Item Matrix: 0.21064669699618882\n",
      "1th iteration is complete...\n",
      "Error after solving for User Matrix: 0.07787097323682132\n",
      "Error after solving for Item Matrix: 0.15914190307359052\n",
      "2th iteration is complete...\n",
      "Error after solving for User Matrix: 0.06852731820208931\n",
      "Error after solving for Item Matrix: 0.13135591467803925\n",
      "3th iteration is complete...\n",
      "Error after solving for User Matrix: 0.06307285872998782\n",
      "Error after solving for Item Matrix: 0.1137941898348555\n",
      "4th iteration is complete...\n",
      "Error after solving for User Matrix: 0.059691641706808525\n",
      "Error after solving for Item Matrix: 0.10175946818331479\n",
      "5th iteration is complete...\n",
      "Error after solving for User Matrix: 0.057495075427487365\n",
      "Error after solving for Item Matrix: 0.09306483249423175\n",
      "6th iteration is complete...\n",
      "Error after solving for User Matrix: 0.056009353163835\n",
      "Error after solving for Item Matrix: 0.08652553650425784\n",
      "7th iteration is complete...\n",
      "Error after solving for User Matrix: 0.054963576462032745\n",
      "Error after solving for Item Matrix: 0.08144086632068664\n",
      "8th iteration is complete...\n",
      "Error after solving for User Matrix: 0.054202251157466394\n",
      "Error after solving for Item Matrix: 0.07738137070418058\n",
      "9th iteration is complete...\n",
      "[0.38324974157150365, 0.21064669699618882, 0.15914190307359052, 0.13135591467803925, 0.1137941898348555, 0.10175946818331479, 0.09306483249423175, 0.08652553650425784, 0.08144086632068664, 0.07738137070418058]\n"
     ]
    },
    {
     "data": {
      "image/png": "[encoded data removed]",
      "text/plain": [
       "<Figure size 432x288 with 1 Axes>"
      ]
     },
     "metadata": {
      "needs_background": "light"
     },
     "output_type": "display_data"
    }
   ],
   "source": [
    "als = ALSFiltering()\n",
    "Users, Items = als.runALS(A.values, R.values, n_factors = 8, n_iterations = 10, lambda_ = .1)"
   ]
  },
  {
   "cell_type": "code",
   "execution_count": 65,
   "metadata": {},
   "outputs": [
    {
     "name": "stdout",
     "output_type": "stream",
     "text": [
      "Results using Matrix Factorisation:\n",
      "\n",
      "Root Mean Square Error:  1.2395551132946747\n",
      "Mean Square Error:  1.5364968788949738\n",
      "Mean Absolute Error:  0.9433608538568954\n"
     ]
    }
   ],
   "source": [
    "# prediction matrix\n",
    "PR = np.dot(Users, Items)\n",
    "PR = pd.DataFrame(data = PR, index = A.index, columns = A.columns)\n",
    "rms, ms, ma = score(als)\n",
    "print(\"Results using Matrix Factorisation:\\n\")\n",
    "print(\"Root Mean Square Error: \", rms)\n",
    "print(\"Mean Square Error: \", ms)\n",
    "print(\"Mean Absolute Error: \", ma)"
   ]
  },
  {
   "cell_type": "code",
   "execution_count": 66,
   "metadata": {},
   "outputs": [
    {
     "data": {
      "text/html": [
       "<div>\n",
       "<style scoped>\n",
       "    .dataframe tbody tr th:only-of-type {\n",
       "        vertical-align: middle;\n",
       "    }\n",
       "\n",
       "    .dataframe tbody tr th {\n",
       "        vertical-align: top;\n",
       "    }\n",
       "\n",
       "    .dataframe thead th {\n",
       "        text-align: right;\n",
       "    }\n",
       "</style>\n",
       "<table border=\"1\" class=\"dataframe\">\n",
       "  <thead>\n",
       "    <tr style=\"text-align: right;\">\n",
       "      <th></th>\n",
       "      <th>product_id</th>\n",
       "      <th>rating</th>\n",
       "      <th>count</th>\n",
       "      <th>product_title</th>\n",
       "      <th>product_category</th>\n",
       "    </tr>\n",
       "  </thead>\n",
       "  <tbody>\n",
       "    <tr>\n",
       "      <th>0</th>\n",
       "      <td>B000MI3HJQ</td>\n",
       "      <td>5.306623</td>\n",
       "      <td>27</td>\n",
       "      <td>Vornado 733 Full-Size Whole Room Air Circulato...</td>\n",
       "      <td>Home</td>\n",
       "    </tr>\n",
       "    <tr>\n",
       "      <th>1</th>\n",
       "      <td>B000HVTC5G</td>\n",
       "      <td>5.295044</td>\n",
       "      <td>28</td>\n",
       "      <td>Surround Air XJ-3800 Large Intelligent Air Pur...</td>\n",
       "      <td>Home</td>\n",
       "    </tr>\n",
       "    <tr>\n",
       "      <th>2</th>\n",
       "      <td>B00M58CMYC</td>\n",
       "      <td>5.236016</td>\n",
       "      <td>27</td>\n",
       "      <td>Bose SoundLink On-Ear Bluetooth Headphones - B...</td>\n",
       "      <td>Electronics</td>\n",
       "    </tr>\n",
       "    <tr>\n",
       "      <th>3</th>\n",
       "      <td>B00K589F8A</td>\n",
       "      <td>5.232008</td>\n",
       "      <td>61</td>\n",
       "      <td>Photive Hydra Wireless Bluetooth Speaker. Wate...</td>\n",
       "      <td>Electronics</td>\n",
       "    </tr>\n",
       "    <tr>\n",
       "      <th>4</th>\n",
       "      <td>B000NLUSLM</td>\n",
       "      <td>5.208565</td>\n",
       "      <td>19</td>\n",
       "      <td>Maha PowerEx MH-C9000 WizardOne Charger-Analyz...</td>\n",
       "      <td>Electronics</td>\n",
       "    </tr>\n",
       "    <tr>\n",
       "      <th>5</th>\n",
       "      <td>B004EBX5GW</td>\n",
       "      <td>5.202430</td>\n",
       "      <td>70</td>\n",
       "      <td>Mediabridge ULTRA Series RCA Y-Adapter (12 Inc...</td>\n",
       "      <td>Electronics</td>\n",
       "    </tr>\n",
       "    <tr>\n",
       "      <th>6</th>\n",
       "      <td>B000IV2WAW</td>\n",
       "      <td>5.197126</td>\n",
       "      <td>70</td>\n",
       "      <td>Sanyo Eneloop AA NiMH Pre-Charged Rechargeable...</td>\n",
       "      <td>Electronics</td>\n",
       "    </tr>\n",
       "    <tr>\n",
       "      <th>7</th>\n",
       "      <td>B0016N3PKW</td>\n",
       "      <td>5.195713</td>\n",
       "      <td>10</td>\n",
       "      <td>Clover Takumi Getaway Soft Touch Crochet Hooks...</td>\n",
       "      <td>Home</td>\n",
       "    </tr>\n",
       "    <tr>\n",
       "      <th>8</th>\n",
       "      <td>B003PWK2A8</td>\n",
       "      <td>5.195681</td>\n",
       "      <td>100</td>\n",
       "      <td>SafeRest Premium Hypoallergenic Waterproof Mat...</td>\n",
       "      <td>Home</td>\n",
       "    </tr>\n",
       "    <tr>\n",
       "      <th>9</th>\n",
       "      <td>B00029U1DU</td>\n",
       "      <td>5.193858</td>\n",
       "      <td>45</td>\n",
       "      <td>Verbatim 700MB 52X 80 Minute Branded Recordabl...</td>\n",
       "      <td>Electronics</td>\n",
       "    </tr>\n",
       "  </tbody>\n",
       "</table>\n",
       "</div>"
      ],
      "text/plain": [
       "   product_id    rating  count  \\\n",
       "0  B000MI3HJQ  5.306623     27   \n",
       "1  B000HVTC5G  5.295044     28   \n",
       "2  B00M58CMYC  5.236016     27   \n",
       "3  B00K589F8A  5.232008     61   \n",
       "4  B000NLUSLM  5.208565     19   \n",
       "5  B004EBX5GW  5.202430     70   \n",
       "6  B000IV2WAW  5.197126     70   \n",
       "7  B0016N3PKW  5.195713     10   \n",
       "8  B003PWK2A8  5.195681    100   \n",
       "9  B00029U1DU  5.193858     45   \n",
       "\n",
       "                                       product_title product_category  \n",
       "0  Vornado 733 Full-Size Whole Room Air Circulato...             Home  \n",
       "1  Surround Air XJ-3800 Large Intelligent Air Pur...             Home  \n",
       "2  Bose SoundLink On-Ear Bluetooth Headphones - B...      Electronics  \n",
       "3  Photive Hydra Wireless Bluetooth Speaker. Wate...      Electronics  \n",
       "4  Maha PowerEx MH-C9000 WizardOne Charger-Analyz...      Electronics  \n",
       "5  Mediabridge ULTRA Series RCA Y-Adapter (12 Inc...      Electronics  \n",
       "6  Sanyo Eneloop AA NiMH Pre-Charged Rechargeable...      Electronics  \n",
       "7  Clover Takumi Getaway Soft Touch Crochet Hooks...             Home  \n",
       "8  SafeRest Premium Hypoallergenic Waterproof Mat...             Home  \n",
       "9  Verbatim 700MB 52X 80 Minute Branded Recordabl...      Electronics  "
      ]
     },
     "execution_count": 66,
     "metadata": {},
     "output_type": "execute_result"
    }
   ],
   "source": [
    "als.getNRecommendations(10, 13343)"
   ]
  },
  {
   "cell_type": "markdown",
   "metadata": {},
   "source": [
    "## Model 5 - Content based filtering using BERT <a name=\"bert\"></a>\n",
    "\n",
    "All the colloborative filtering recommendation techniques discussed in the earlier sections suffer from cold-start problem. Cold start is the problem which occurs when there are new users and items in the system. Product cold-start occurs when  the product has not received enough reviews and it is difficult to compute the simmilarity of products based on interactions. Customer cold-start problem occurs when customer has not given enough reviews and finding the simmilar users is a challenge. In such situations content-based filtering recommendation technique is a better choice.\n",
    "\n",
    "Content-based methods try to use the content or attributes of the item, together with some notion of similarity between two pieces of content, to generate similar items with respect to the given item. In this case, cosine similarity is used to determine the nearest user or item to provide recommendations.  \n",
    "<img src =\"cbs.png\" align = center width=\"200\" height=\"200\"></img>  \n",
    "\n",
    "In our dataset, product title information can be leveraged to generate the features and using those features simmilar items can be recommended to the user. In this project, a pretrained BERT model is used to generate the sentence embeddings from the product title and then cosine simmilarity measure is used to find the simmilar products based on the features."
   ]
  },
  {
   "cell_type": "code",
   "execution_count": 136,
   "metadata": {},
   "outputs": [],
   "source": [
    "from scipy.spatial.distance import cosine\n",
    "\n",
    "#For Bert\n",
    "import torch\n",
    "from transformers import BertTokenizer\n",
    "from transformers.modeling_bert import BertModel\n",
    "\n",
    "def getSentenceEmbeddings(decription):\n",
    "    token_tensor = \"[CLS] \" + decription + \" [SEP]\"\n",
    "    token_tensor = tokenizer.tokenize(token_tensor)\n",
    "    token_tensor = tokenizer.convert_tokens_to_ids(token_tensor)\n",
    "    segments_tensors = [1] * len(token_tensor)\n",
    "    segments_tensors = torch.tensor([segments_tensors])\n",
    "    token_tensor = torch.tensor([token_tensor])\n",
    "    with torch.no_grad():\n",
    "        output = model(token_tensor, segments_tensors)\n",
    "        token_vecs = output[2]\n",
    "        sentence_embedding = torch.mean(token_vecs[-2][0], dim=0)\n",
    "    return sentence_embedding\n",
    "\n",
    "class ContentBasedFiltering:\n",
    "  \n",
    "    def getPredictions(self, customer_id, product_id):\n",
    "        mean_rating = 3\n",
    "        # get embedding of the product title\n",
    "#         embedding = X_test[(X_test['customer_id'] == customer_id)\n",
    "#                            & (X_test['product_id'] == product_id)]['sentence_embedding'].values[0]\n",
    "        embedding = product_data[product_data.product_id == product_id]['sentence_embedding'].values[0]\n",
    "        # get reviewed products from user profile\n",
    "        user_products = X_train[(X_train['customer_id'] == customer_id) \n",
    "                                & (X_train['star_rating'] > 0)].loc[:,['product_id','sentence_embedding','star_rating']]\n",
    "         # find simmilarity of reviewed products in user profile\n",
    "        user_products.loc[:,'cosine_score'] = user_products.apply(lambda row: 1 - cosine(row['sentence_embedding'], \n",
    "                                                                                         embedding), axis=1)\n",
    "        simmilar_products = user_products[user_products.cosine_score > 0.75]\n",
    "        if simmilar_products.empty:\n",
    "            mean_rating = 3\n",
    "        else: \n",
    "            mean_rating = simmilar_products['star_rating'].mean()\n",
    "        return mean_rating\n",
    "    \n",
    "    def getNRecommendations(self, n, customer_id):\n",
    "        # get products not rated by customer\n",
    "        plist = X_train[X_train.customer_id == customer_id]['product_id'].to_frame()\n",
    "        plist = np.array(X_train[~(X_train.product_id.isin(plist.product_id))]['product_id'])\n",
    "        rec = []\n",
    "        for product in plist:\n",
    "            rec.append([product, self.getPredictions(customer_id, product)])\n",
    "        rec = pd.DataFrame(rec, columns=['product_id','rating'])   \n",
    "        rec['count'] =  rec['product_id'].apply(getCount)\n",
    "        most_popular = rec.sort_values(['rating','count'],ascending=False).iloc[:n,:]\n",
    "        most_popular = pd.merge(most_popular, product_data[['product_id', 'product_title', 'product_category']],\n",
    "                how='left', on=['product_id'])\n",
    "        return most_popular\n",
    "    \n",
    "X_train = pd.read_csv(os.path.join(project_dir, \"X_train.csv\"), header=0, engine='python')\n",
    "X_test = pd.read_csv(os.path.join(project_dir, \"X_test.csv\"), header=0, engine='python')\n",
    "y_train = pd.read_csv(os.path.join(project_dir, \"y_train.csv\"), header=0, engine='python')\n",
    "y_test = pd.read_csv(os.path.join(project_dir, \"y_test.csv\"), header=0, engine='python') \n",
    "product_data = pd.DataFrame(X_train.groupby(['product_id', 'product_category', 'product_title'])['star_rating'].count()).reset_index().loc[:,['product_id', 'product_category', 'product_title']]"
   ]
  },
  {
   "cell_type": "code",
   "execution_count": 123,
   "metadata": {},
   "outputs": [
    {
     "data": {
      "text/plain": [
       "BertModel(\n",
       "  (embeddings): BertEmbeddings(\n",
       "    (word_embeddings): Embedding(30522, 768, padding_idx=0)\n",
       "    (position_embeddings): Embedding(512, 768)\n",
       "    (token_type_embeddings): Embedding(2, 768)\n",
       "    (LayerNorm): LayerNorm(torch.Size([768]), eps=1e-12, elementwise_affine=True)\n",
       "    (dropout): Dropout(p=0.1)\n",
       "  )\n",
       "  (encoder): BertEncoder(\n",
       "    (layer): ModuleList(\n",
       "      (0): BertLayer(\n",
       "        (attention): BertAttention(\n",
       "          (self): BertSelfAttention(\n",
       "            (query): Linear(in_features=768, out_features=768, bias=True)\n",
       "            (key): Linear(in_features=768, out_features=768, bias=True)\n",
       "            (value): Linear(in_features=768, out_features=768, bias=True)\n",
       "            (dropout): Dropout(p=0.1)\n",
       "          )\n",
       "          (output): BertSelfOutput(\n",
       "            (dense): Linear(in_features=768, out_features=768, bias=True)\n",
       "            (LayerNorm): LayerNorm(torch.Size([768]), eps=1e-12, elementwise_affine=True)\n",
       "            (dropout): Dropout(p=0.1)\n",
       "          )\n",
       "        )\n",
       "        (intermediate): BertIntermediate(\n",
       "          (dense): Linear(in_features=768, out_features=3072, bias=True)\n",
       "        )\n",
       "        (output): BertOutput(\n",
       "          (dense): Linear(in_features=3072, out_features=768, bias=True)\n",
       "          (LayerNorm): LayerNorm(torch.Size([768]), eps=1e-12, elementwise_affine=True)\n",
       "          (dropout): Dropout(p=0.1)\n",
       "        )\n",
       "      )\n",
       "      (1): BertLayer(\n",
       "        (attention): BertAttention(\n",
       "          (self): BertSelfAttention(\n",
       "            (query): Linear(in_features=768, out_features=768, bias=True)\n",
       "            (key): Linear(in_features=768, out_features=768, bias=True)\n",
       "            (value): Linear(in_features=768, out_features=768, bias=True)\n",
       "            (dropout): Dropout(p=0.1)\n",
       "          )\n",
       "          (output): BertSelfOutput(\n",
       "            (dense): Linear(in_features=768, out_features=768, bias=True)\n",
       "            (LayerNorm): LayerNorm(torch.Size([768]), eps=1e-12, elementwise_affine=True)\n",
       "            (dropout): Dropout(p=0.1)\n",
       "          )\n",
       "        )\n",
       "        (intermediate): BertIntermediate(\n",
       "          (dense): Linear(in_features=768, out_features=3072, bias=True)\n",
       "        )\n",
       "        (output): BertOutput(\n",
       "          (dense): Linear(in_features=3072, out_features=768, bias=True)\n",
       "          (LayerNorm): LayerNorm(torch.Size([768]), eps=1e-12, elementwise_affine=True)\n",
       "          (dropout): Dropout(p=0.1)\n",
       "        )\n",
       "      )\n",
       "      (2): BertLayer(\n",
       "        (attention): BertAttention(\n",
       "          (self): BertSelfAttention(\n",
       "            (query): Linear(in_features=768, out_features=768, bias=True)\n",
       "            (key): Linear(in_features=768, out_features=768, bias=True)\n",
       "            (value): Linear(in_features=768, out_features=768, bias=True)\n",
       "            (dropout): Dropout(p=0.1)\n",
       "          )\n",
       "          (output): BertSelfOutput(\n",
       "            (dense): Linear(in_features=768, out_features=768, bias=True)\n",
       "            (LayerNorm): LayerNorm(torch.Size([768]), eps=1e-12, elementwise_affine=True)\n",
       "            (dropout): Dropout(p=0.1)\n",
       "          )\n",
       "        )\n",
       "        (intermediate): BertIntermediate(\n",
       "          (dense): Linear(in_features=768, out_features=3072, bias=True)\n",
       "        )\n",
       "        (output): BertOutput(\n",
       "          (dense): Linear(in_features=3072, out_features=768, bias=True)\n",
       "          (LayerNorm): LayerNorm(torch.Size([768]), eps=1e-12, elementwise_affine=True)\n",
       "          (dropout): Dropout(p=0.1)\n",
       "        )\n",
       "      )\n",
       "      (3): BertLayer(\n",
       "        (attention): BertAttention(\n",
       "          (self): BertSelfAttention(\n",
       "            (query): Linear(in_features=768, out_features=768, bias=True)\n",
       "            (key): Linear(in_features=768, out_features=768, bias=True)\n",
       "            (value): Linear(in_features=768, out_features=768, bias=True)\n",
       "            (dropout): Dropout(p=0.1)\n",
       "          )\n",
       "          (output): BertSelfOutput(\n",
       "            (dense): Linear(in_features=768, out_features=768, bias=True)\n",
       "            (LayerNorm): LayerNorm(torch.Size([768]), eps=1e-12, elementwise_affine=True)\n",
       "            (dropout): Dropout(p=0.1)\n",
       "          )\n",
       "        )\n",
       "        (intermediate): BertIntermediate(\n",
       "          (dense): Linear(in_features=768, out_features=3072, bias=True)\n",
       "        )\n",
       "        (output): BertOutput(\n",
       "          (dense): Linear(in_features=3072, out_features=768, bias=True)\n",
       "          (LayerNorm): LayerNorm(torch.Size([768]), eps=1e-12, elementwise_affine=True)\n",
       "          (dropout): Dropout(p=0.1)\n",
       "        )\n",
       "      )\n",
       "      (4): BertLayer(\n",
       "        (attention): BertAttention(\n",
       "          (self): BertSelfAttention(\n",
       "            (query): Linear(in_features=768, out_features=768, bias=True)\n",
       "            (key): Linear(in_features=768, out_features=768, bias=True)\n",
       "            (value): Linear(in_features=768, out_features=768, bias=True)\n",
       "            (dropout): Dropout(p=0.1)\n",
       "          )\n",
       "          (output): BertSelfOutput(\n",
       "            (dense): Linear(in_features=768, out_features=768, bias=True)\n",
       "            (LayerNorm): LayerNorm(torch.Size([768]), eps=1e-12, elementwise_affine=True)\n",
       "            (dropout): Dropout(p=0.1)\n",
       "          )\n",
       "        )\n",
       "        (intermediate): BertIntermediate(\n",
       "          (dense): Linear(in_features=768, out_features=3072, bias=True)\n",
       "        )\n",
       "        (output): BertOutput(\n",
       "          (dense): Linear(in_features=3072, out_features=768, bias=True)\n",
       "          (LayerNorm): LayerNorm(torch.Size([768]), eps=1e-12, elementwise_affine=True)\n",
       "          (dropout): Dropout(p=0.1)\n",
       "        )\n",
       "      )\n",
       "      (5): BertLayer(\n",
       "        (attention): BertAttention(\n",
       "          (self): BertSelfAttention(\n",
       "            (query): Linear(in_features=768, out_features=768, bias=True)\n",
       "            (key): Linear(in_features=768, out_features=768, bias=True)\n",
       "            (value): Linear(in_features=768, out_features=768, bias=True)\n",
       "            (dropout): Dropout(p=0.1)\n",
       "          )\n",
       "          (output): BertSelfOutput(\n",
       "            (dense): Linear(in_features=768, out_features=768, bias=True)\n",
       "            (LayerNorm): LayerNorm(torch.Size([768]), eps=1e-12, elementwise_affine=True)\n",
       "            (dropout): Dropout(p=0.1)\n",
       "          )\n",
       "        )\n",
       "        (intermediate): BertIntermediate(\n",
       "          (dense): Linear(in_features=768, out_features=3072, bias=True)\n",
       "        )\n",
       "        (output): BertOutput(\n",
       "          (dense): Linear(in_features=3072, out_features=768, bias=True)\n",
       "          (LayerNorm): LayerNorm(torch.Size([768]), eps=1e-12, elementwise_affine=True)\n",
       "          (dropout): Dropout(p=0.1)\n",
       "        )\n",
       "      )\n",
       "      (6): BertLayer(\n",
       "        (attention): BertAttention(\n",
       "          (self): BertSelfAttention(\n",
       "            (query): Linear(in_features=768, out_features=768, bias=True)\n",
       "            (key): Linear(in_features=768, out_features=768, bias=True)\n",
       "            (value): Linear(in_features=768, out_features=768, bias=True)\n",
       "            (dropout): Dropout(p=0.1)\n",
       "          )\n",
       "          (output): BertSelfOutput(\n",
       "            (dense): Linear(in_features=768, out_features=768, bias=True)\n",
       "            (LayerNorm): LayerNorm(torch.Size([768]), eps=1e-12, elementwise_affine=True)\n",
       "            (dropout): Dropout(p=0.1)\n",
       "          )\n",
       "        )\n",
       "        (intermediate): BertIntermediate(\n",
       "          (dense): Linear(in_features=768, out_features=3072, bias=True)\n",
       "        )\n",
       "        (output): BertOutput(\n",
       "          (dense): Linear(in_features=3072, out_features=768, bias=True)\n",
       "          (LayerNorm): LayerNorm(torch.Size([768]), eps=1e-12, elementwise_affine=True)\n",
       "          (dropout): Dropout(p=0.1)\n",
       "        )\n",
       "      )\n",
       "      (7): BertLayer(\n",
       "        (attention): BertAttention(\n",
       "          (self): BertSelfAttention(\n",
       "            (query): Linear(in_features=768, out_features=768, bias=True)\n",
       "            (key): Linear(in_features=768, out_features=768, bias=True)\n",
       "            (value): Linear(in_features=768, out_features=768, bias=True)\n",
       "            (dropout): Dropout(p=0.1)\n",
       "          )\n",
       "          (output): BertSelfOutput(\n",
       "            (dense): Linear(in_features=768, out_features=768, bias=True)\n",
       "            (LayerNorm): LayerNorm(torch.Size([768]), eps=1e-12, elementwise_affine=True)\n",
       "            (dropout): Dropout(p=0.1)\n",
       "          )\n",
       "        )\n",
       "        (intermediate): BertIntermediate(\n",
       "          (dense): Linear(in_features=768, out_features=3072, bias=True)\n",
       "        )\n",
       "        (output): BertOutput(\n",
       "          (dense): Linear(in_features=3072, out_features=768, bias=True)\n",
       "          (LayerNorm): LayerNorm(torch.Size([768]), eps=1e-12, elementwise_affine=True)\n",
       "          (dropout): Dropout(p=0.1)\n",
       "        )\n",
       "      )\n",
       "      (8): BertLayer(\n",
       "        (attention): BertAttention(\n",
       "          (self): BertSelfAttention(\n",
       "            (query): Linear(in_features=768, out_features=768, bias=True)\n",
       "            (key): Linear(in_features=768, out_features=768, bias=True)\n",
       "            (value): Linear(in_features=768, out_features=768, bias=True)\n",
       "            (dropout): Dropout(p=0.1)\n",
       "          )\n",
       "          (output): BertSelfOutput(\n",
       "            (dense): Linear(in_features=768, out_features=768, bias=True)\n",
       "            (LayerNorm): LayerNorm(torch.Size([768]), eps=1e-12, elementwise_affine=True)\n",
       "            (dropout): Dropout(p=0.1)\n",
       "          )\n",
       "        )\n",
       "        (intermediate): BertIntermediate(\n",
       "          (dense): Linear(in_features=768, out_features=3072, bias=True)\n",
       "        )\n",
       "        (output): BertOutput(\n",
       "          (dense): Linear(in_features=3072, out_features=768, bias=True)\n",
       "          (LayerNorm): LayerNorm(torch.Size([768]), eps=1e-12, elementwise_affine=True)\n",
       "          (dropout): Dropout(p=0.1)\n",
       "        )\n",
       "      )\n",
       "      (9): BertLayer(\n",
       "        (attention): BertAttention(\n",
       "          (self): BertSelfAttention(\n",
       "            (query): Linear(in_features=768, out_features=768, bias=True)\n",
       "            (key): Linear(in_features=768, out_features=768, bias=True)\n",
       "            (value): Linear(in_features=768, out_features=768, bias=True)\n",
       "            (dropout): Dropout(p=0.1)\n",
       "          )\n",
       "          (output): BertSelfOutput(\n",
       "            (dense): Linear(in_features=768, out_features=768, bias=True)\n",
       "            (LayerNorm): LayerNorm(torch.Size([768]), eps=1e-12, elementwise_affine=True)\n",
       "            (dropout): Dropout(p=0.1)\n",
       "          )\n",
       "        )\n",
       "        (intermediate): BertIntermediate(\n",
       "          (dense): Linear(in_features=768, out_features=3072, bias=True)\n",
       "        )\n",
       "        (output): BertOutput(\n",
       "          (dense): Linear(in_features=3072, out_features=768, bias=True)\n",
       "          (LayerNorm): LayerNorm(torch.Size([768]), eps=1e-12, elementwise_affine=True)\n",
       "          (dropout): Dropout(p=0.1)\n",
       "        )\n",
       "      )\n",
       "      (10): BertLayer(\n",
       "        (attention): BertAttention(\n",
       "          (self): BertSelfAttention(\n",
       "            (query): Linear(in_features=768, out_features=768, bias=True)\n",
       "            (key): Linear(in_features=768, out_features=768, bias=True)\n",
       "            (value): Linear(in_features=768, out_features=768, bias=True)\n",
       "            (dropout): Dropout(p=0.1)\n",
       "          )\n",
       "          (output): BertSelfOutput(\n",
       "            (dense): Linear(in_features=768, out_features=768, bias=True)\n",
       "            (LayerNorm): LayerNorm(torch.Size([768]), eps=1e-12, elementwise_affine=True)\n",
       "            (dropout): Dropout(p=0.1)\n",
       "          )\n",
       "        )\n",
       "        (intermediate): BertIntermediate(\n",
       "          (dense): Linear(in_features=768, out_features=3072, bias=True)\n",
       "        )\n",
       "        (output): BertOutput(\n",
       "          (dense): Linear(in_features=3072, out_features=768, bias=True)\n",
       "          (LayerNorm): LayerNorm(torch.Size([768]), eps=1e-12, elementwise_affine=True)\n",
       "          (dropout): Dropout(p=0.1)\n",
       "        )\n",
       "      )\n",
       "      (11): BertLayer(\n",
       "        (attention): BertAttention(\n",
       "          (self): BertSelfAttention(\n",
       "            (query): Linear(in_features=768, out_features=768, bias=True)\n",
       "            (key): Linear(in_features=768, out_features=768, bias=True)\n",
       "            (value): Linear(in_features=768, out_features=768, bias=True)\n",
       "            (dropout): Dropout(p=0.1)\n",
       "          )\n",
       "          (output): BertSelfOutput(\n",
       "            (dense): Linear(in_features=768, out_features=768, bias=True)\n",
       "            (LayerNorm): LayerNorm(torch.Size([768]), eps=1e-12, elementwise_affine=True)\n",
       "            (dropout): Dropout(p=0.1)\n",
       "          )\n",
       "        )\n",
       "        (intermediate): BertIntermediate(\n",
       "          (dense): Linear(in_features=768, out_features=3072, bias=True)\n",
       "        )\n",
       "        (output): BertOutput(\n",
       "          (dense): Linear(in_features=3072, out_features=768, bias=True)\n",
       "          (LayerNorm): LayerNorm(torch.Size([768]), eps=1e-12, elementwise_affine=True)\n",
       "          (dropout): Dropout(p=0.1)\n",
       "        )\n",
       "      )\n",
       "    )\n",
       "  )\n",
       "  (pooler): BertPooler(\n",
       "    (dense): Linear(in_features=768, out_features=768, bias=True)\n",
       "    (activation): Tanh()\n",
       "  )\n",
       ")"
      ]
     },
     "execution_count": 123,
     "metadata": {},
     "output_type": "execute_result"
    }
   ],
   "source": [
    "# Load pre-trained model tokenizer (vocabulary)\n",
    "tokenizer = BertTokenizer.from_pretrained('bert-base-uncased')\n",
    "# Load pre-trained model (weights)\n",
    "model = BertModel.from_pretrained('bert-base-uncased',\n",
    "                                  output_hidden_states = True, # Whether the model returns all hidden-states.\n",
    "                                  )\n",
    "\n",
    "# Put the model in \"evaluation\" mode, meaning feed-forward operation.\n",
    "model.eval()"
   ]
  },
  {
   "cell_type": "code",
   "execution_count": 124,
   "metadata": {},
   "outputs": [],
   "source": [
    "product_data = pd.concat([X_train.loc[:,['product_id','product_title','product_category','star_rating']],\n",
    "                          X_test.loc[:,['product_id','product_title','product_category','star_rating']]])\n",
    "product_data = product_data.groupby(['product_id','product_title','product_category']).count().reset_index()\n",
    "product_data = product_data.loc[:,['product_id','product_title','product_category']]\n",
    "product_data.loc[:,'sentence_embedding'] = product_data.loc[:,'product_title'].apply(getSentenceEmbeddings)"
   ]
  },
  {
   "cell_type": "code",
   "execution_count": 137,
   "metadata": {},
   "outputs": [],
   "source": [
    "X_train  = pd.merge(X_train, product_data[['product_id', 'product_title', 'product_category','sentence_embedding']],\n",
    "                how='left', on=['product_id', 'product_title', 'product_category'])\n",
    "\n",
    "X_train.columns = ['id','customer_id','review_id','product_id','product_title','product_category','star_rating','review_date','year','sentence_embedding']\n",
    "idx = X_train[X_train.duplicated(['id'])].index\n",
    "X_train = X_train.loc[~X_train.index.isin(idx),['customer_id','product_id','star_rating','product_title','product_category','sentence_embedding']]"
   ]
  },
  {
   "cell_type": "code",
   "execution_count": 138,
   "metadata": {},
   "outputs": [],
   "source": [
    "X_test  = pd.merge(X_test, product_data[['product_id', 'product_title', 'product_category','sentence_embedding']],\n",
    "                how='left', on=['product_id', 'product_title', 'product_category'])\n",
    "X_test.columns = ['id','customer_id','review_id','product_id','product_title','product_category','star_rating','review_date','year','sentence_embedding']\n",
    "idx = X_test[X_test.duplicated(['id'])].index\n",
    "X_test = X_test.loc[~X_test.index.isin(idx),['customer_id','product_id','star_rating','product_title','product_category','sentence_embedding']]"
   ]
  },
  {
   "cell_type": "code",
   "execution_count": 134,
   "metadata": {},
   "outputs": [
    {
     "name": "stdout",
     "output_type": "stream",
     "text": [
      "0         [tensor(0.1428), tensor(-0.0208), tensor(0.067...\n",
      "1         [tensor(-0.1214), tensor(0.0390), tensor(1.053...\n",
      "2         [tensor(0.0905), tensor(0.0414), tensor(0.6481...\n",
      "3         [tensor(-0.0682), tensor(-0.1636), tensor(0.62...\n",
      "4         [tensor(0.2021), tensor(0.3728), tensor(0.7874...\n",
      "                                ...                        \n",
      "177986    [tensor(-0.0011), tensor(0.3190), tensor(-0.02...\n",
      "177987    [tensor(0.0823), tensor(-0.2703), tensor(0.335...\n",
      "177988    [tensor(0.1041), tensor(-0.1652), tensor(0.993...\n",
      "177989    [tensor(0.0208), tensor(-0.2914), tensor(-0.22...\n",
      "177990    [tensor(0.2249), tensor(-0.2081), tensor(0.862...\n",
      "Name: sentence_embedding, Length: 177991, dtype: object\n",
      "0        [tensor(-0.1315), tensor(0.1359), tensor(0.435...\n",
      "1        [tensor(-0.1546), tensor(0.3477), tensor(1.149...\n",
      "2        [tensor(-0.0856), tensor(-0.1184), tensor(0.42...\n",
      "3        [tensor(0.0280), tensor(-0.2511), tensor(1.069...\n",
      "4        [tensor(0.0358), tensor(-0.4994), tensor(0.364...\n",
      "                               ...                        \n",
      "76277    [tensor(-0.1615), tensor(0.1201), tensor(0.763...\n",
      "76278    [tensor(0.6636), tensor(0.0204), tensor(-0.350...\n",
      "76279    [tensor(0.1529), tensor(0.1025), tensor(0.1629...\n",
      "76280    [tensor(-0.0056), tensor(-0.6709), tensor(0.33...\n",
      "76281    [tensor(-0.1637), tensor(-0.0669), tensor(0.32...\n",
      "Name: sentence_embedding, Length: 76282, dtype: object\n"
     ]
    }
   ],
   "source": [
    "print(X_train['sentence_embedding'])\n",
    "print(X_test['sentence_embedding'])"
   ]
  },
  {
   "cell_type": "code",
   "execution_count": 128,
   "metadata": {},
   "outputs": [
    {
     "name": "stdout",
     "output_type": "stream",
     "text": [
      "Results using Content based filtering-BERT:\n",
      "\n",
      "Root Mean Square Error:  1.192514254684794\n",
      "Mean Square Error:  1.4220902476264299\n",
      "Mean Absolute Error:  0.7953073250458133\n"
     ]
    }
   ],
   "source": [
    "cbf = ContentBasedFiltering()\n",
    "rms, ms, ma = score(cbf)\n",
    "print(\"Results using Content based filtering-BERT:\\n\")\n",
    "print(\"Root Mean Square Error: \", rms)\n",
    "print(\"Mean Square Error: \", ms)\n",
    "print(\"Mean Absolute Error: \", ma)"
   ]
  },
  {
   "cell_type": "code",
   "execution_count": 139,
   "metadata": {},
   "outputs": [
    {
     "ename": "KeyboardInterrupt",
     "evalue": "",
     "output_type": "error",
     "traceback": [
      "\u001b[1;31m---------------------------------------------------------------------------\u001b[0m",
      "\u001b[1;31mKeyboardInterrupt\u001b[0m                         Traceback (most recent call last)",
      "\u001b[1;32m<ipython-input-139-d07ef94a6343>\u001b[0m in \u001b[0;36m<module>\u001b[1;34m\u001b[0m\n\u001b[0;32m      1\u001b[0m \u001b[0mcbf\u001b[0m \u001b[1;33m=\u001b[0m \u001b[0mContentBasedFiltering\u001b[0m\u001b[1;33m(\u001b[0m\u001b[1;33m)\u001b[0m\u001b[1;33m\u001b[0m\u001b[1;33m\u001b[0m\u001b[0m\n\u001b[0;32m      2\u001b[0m \u001b[1;33m\u001b[0m\u001b[0m\n\u001b[1;32m----> 3\u001b[1;33m \u001b[0mcbf\u001b[0m\u001b[1;33m.\u001b[0m\u001b[0mgetNRecommendations\u001b[0m\u001b[1;33m(\u001b[0m\u001b[1;36m10\u001b[0m\u001b[1;33m,\u001b[0m \u001b[1;36m13343\u001b[0m\u001b[1;33m)\u001b[0m\u001b[1;33m\u001b[0m\u001b[1;33m\u001b[0m\u001b[0m\n\u001b[0m",
      "\u001b[1;32m<ipython-input-136-91021b8a713e>\u001b[0m in \u001b[0;36mgetNRecommendations\u001b[1;34m(self, n, customer_id)\u001b[0m\n\u001b[0;32m     46\u001b[0m         \u001b[0mrec\u001b[0m \u001b[1;33m=\u001b[0m \u001b[1;33m[\u001b[0m\u001b[1;33m]\u001b[0m\u001b[1;33m\u001b[0m\u001b[1;33m\u001b[0m\u001b[0m\n\u001b[0;32m     47\u001b[0m         \u001b[1;32mfor\u001b[0m \u001b[0mproduct\u001b[0m \u001b[1;32min\u001b[0m \u001b[0mplist\u001b[0m\u001b[1;33m:\u001b[0m\u001b[1;33m\u001b[0m\u001b[1;33m\u001b[0m\u001b[0m\n\u001b[1;32m---> 48\u001b[1;33m             \u001b[0mrec\u001b[0m\u001b[1;33m.\u001b[0m\u001b[0mappend\u001b[0m\u001b[1;33m(\u001b[0m\u001b[1;33m[\u001b[0m\u001b[0mproduct\u001b[0m\u001b[1;33m,\u001b[0m \u001b[0mself\u001b[0m\u001b[1;33m.\u001b[0m\u001b[0mgetPredictions\u001b[0m\u001b[1;33m(\u001b[0m\u001b[0mcustomer_id\u001b[0m\u001b[1;33m,\u001b[0m \u001b[0mproduct\u001b[0m\u001b[1;33m)\u001b[0m\u001b[1;33m]\u001b[0m\u001b[1;33m)\u001b[0m\u001b[1;33m\u001b[0m\u001b[1;33m\u001b[0m\u001b[0m\n\u001b[0m\u001b[0;32m     49\u001b[0m         \u001b[0mrec\u001b[0m \u001b[1;33m=\u001b[0m \u001b[0mpd\u001b[0m\u001b[1;33m.\u001b[0m\u001b[0mDataFrame\u001b[0m\u001b[1;33m(\u001b[0m\u001b[0mrec\u001b[0m\u001b[1;33m,\u001b[0m \u001b[0mcolumns\u001b[0m\u001b[1;33m=\u001b[0m\u001b[1;33m[\u001b[0m\u001b[1;34m'product_id'\u001b[0m\u001b[1;33m,\u001b[0m\u001b[1;34m'rating'\u001b[0m\u001b[1;33m]\u001b[0m\u001b[1;33m)\u001b[0m\u001b[1;33m\u001b[0m\u001b[1;33m\u001b[0m\u001b[0m\n\u001b[0;32m     50\u001b[0m         \u001b[0mrec\u001b[0m\u001b[1;33m[\u001b[0m\u001b[1;34m'count'\u001b[0m\u001b[1;33m]\u001b[0m \u001b[1;33m=\u001b[0m  \u001b[0mrec\u001b[0m\u001b[1;33m[\u001b[0m\u001b[1;34m'product_id'\u001b[0m\u001b[1;33m]\u001b[0m\u001b[1;33m.\u001b[0m\u001b[0mapply\u001b[0m\u001b[1;33m(\u001b[0m\u001b[0mgetCount\u001b[0m\u001b[1;33m)\u001b[0m\u001b[1;33m\u001b[0m\u001b[1;33m\u001b[0m\u001b[0m\n",
      "\u001b[1;32m<ipython-input-136-91021b8a713e>\u001b[0m in \u001b[0;36mgetPredictions\u001b[1;34m(self, customer_id, product_id)\u001b[0m\n\u001b[0;32m     26\u001b[0m \u001b[1;31m#         embedding = X_test[(X_test['customer_id'] == customer_id)\u001b[0m\u001b[1;33m\u001b[0m\u001b[1;33m\u001b[0m\u001b[1;33m\u001b[0m\u001b[0m\n\u001b[0;32m     27\u001b[0m \u001b[1;31m#                            & (X_test['product_id'] == product_id)]['sentence_embedding'].values[0]\u001b[0m\u001b[1;33m\u001b[0m\u001b[1;33m\u001b[0m\u001b[1;33m\u001b[0m\u001b[0m\n\u001b[1;32m---> 28\u001b[1;33m         \u001b[0membedding\u001b[0m \u001b[1;33m=\u001b[0m \u001b[0mproduct_data\u001b[0m\u001b[1;33m[\u001b[0m\u001b[0mproduct_data\u001b[0m\u001b[1;33m.\u001b[0m\u001b[0mproduct_id\u001b[0m \u001b[1;33m==\u001b[0m \u001b[0mproduct_id\u001b[0m\u001b[1;33m]\u001b[0m\u001b[1;33m[\u001b[0m\u001b[1;34m'sentence_embedding'\u001b[0m\u001b[1;33m]\u001b[0m\u001b[1;33m.\u001b[0m\u001b[0mvalues\u001b[0m\u001b[1;33m[\u001b[0m\u001b[1;36m0\u001b[0m\u001b[1;33m]\u001b[0m\u001b[1;33m\u001b[0m\u001b[1;33m\u001b[0m\u001b[0m\n\u001b[0m\u001b[0;32m     29\u001b[0m         \u001b[1;31m# get reviewed products from user profile\u001b[0m\u001b[1;33m\u001b[0m\u001b[1;33m\u001b[0m\u001b[1;33m\u001b[0m\u001b[0m\n\u001b[0;32m     30\u001b[0m         user_products = X_train[(X_train['customer_id'] == customer_id) \n",
      "\u001b[1;32md:\\installed software\\python\\lib\\site-packages\\pandas\\core\\frame.py\u001b[0m in \u001b[0;36m__getitem__\u001b[1;34m(self, key)\u001b[0m\n\u001b[0;32m   2789\u001b[0m         \u001b[1;31m# Do we have a (boolean) 1d indexer?\u001b[0m\u001b[1;33m\u001b[0m\u001b[1;33m\u001b[0m\u001b[1;33m\u001b[0m\u001b[0m\n\u001b[0;32m   2790\u001b[0m         \u001b[1;32mif\u001b[0m \u001b[0mcom\u001b[0m\u001b[1;33m.\u001b[0m\u001b[0mis_bool_indexer\u001b[0m\u001b[1;33m(\u001b[0m\u001b[0mkey\u001b[0m\u001b[1;33m)\u001b[0m\u001b[1;33m:\u001b[0m\u001b[1;33m\u001b[0m\u001b[1;33m\u001b[0m\u001b[0m\n\u001b[1;32m-> 2791\u001b[1;33m             \u001b[1;32mreturn\u001b[0m \u001b[0mself\u001b[0m\u001b[1;33m.\u001b[0m\u001b[0m_getitem_bool_array\u001b[0m\u001b[1;33m(\u001b[0m\u001b[0mkey\u001b[0m\u001b[1;33m)\u001b[0m\u001b[1;33m\u001b[0m\u001b[1;33m\u001b[0m\u001b[0m\n\u001b[0m\u001b[0;32m   2792\u001b[0m \u001b[1;33m\u001b[0m\u001b[0m\n\u001b[0;32m   2793\u001b[0m         \u001b[1;31m# We are left with two options: a single key, and a collection of keys,\u001b[0m\u001b[1;33m\u001b[0m\u001b[1;33m\u001b[0m\u001b[1;33m\u001b[0m\u001b[0m\n",
      "\u001b[1;32md:\\installed software\\python\\lib\\site-packages\\pandas\\core\\frame.py\u001b[0m in \u001b[0;36m_getitem_bool_array\u001b[1;34m(self, key)\u001b[0m\n\u001b[0;32m   2842\u001b[0m         \u001b[1;31m# be reindexed to match DataFrame rows\u001b[0m\u001b[1;33m\u001b[0m\u001b[1;33m\u001b[0m\u001b[1;33m\u001b[0m\u001b[0m\n\u001b[0;32m   2843\u001b[0m         \u001b[0mkey\u001b[0m \u001b[1;33m=\u001b[0m \u001b[0mcheck_bool_indexer\u001b[0m\u001b[1;33m(\u001b[0m\u001b[0mself\u001b[0m\u001b[1;33m.\u001b[0m\u001b[0mindex\u001b[0m\u001b[1;33m,\u001b[0m \u001b[0mkey\u001b[0m\u001b[1;33m)\u001b[0m\u001b[1;33m\u001b[0m\u001b[1;33m\u001b[0m\u001b[0m\n\u001b[1;32m-> 2844\u001b[1;33m         \u001b[0mindexer\u001b[0m \u001b[1;33m=\u001b[0m \u001b[0mkey\u001b[0m\u001b[1;33m.\u001b[0m\u001b[0mnonzero\u001b[0m\u001b[1;33m(\u001b[0m\u001b[1;33m)\u001b[0m\u001b[1;33m[\u001b[0m\u001b[1;36m0\u001b[0m\u001b[1;33m]\u001b[0m\u001b[1;33m\u001b[0m\u001b[1;33m\u001b[0m\u001b[0m\n\u001b[0m\u001b[0;32m   2845\u001b[0m         \u001b[1;32mreturn\u001b[0m \u001b[0mself\u001b[0m\u001b[1;33m.\u001b[0m\u001b[0m_take_with_is_copy\u001b[0m\u001b[1;33m(\u001b[0m\u001b[0mindexer\u001b[0m\u001b[1;33m,\u001b[0m \u001b[0maxis\u001b[0m\u001b[1;33m=\u001b[0m\u001b[1;36m0\u001b[0m\u001b[1;33m)\u001b[0m\u001b[1;33m\u001b[0m\u001b[1;33m\u001b[0m\u001b[0m\n\u001b[0;32m   2846\u001b[0m \u001b[1;33m\u001b[0m\u001b[0m\n",
      "\u001b[1;31mKeyboardInterrupt\u001b[0m: "
     ]
    }
   ],
   "source": [
    "cbf.getNRecommendations(10, 13343)"
   ]
  },
  {
   "cell_type": "markdown",
   "metadata": {},
   "source": [
    "# 5. Conclusion <a name=\"conclusion\"></a>"
   ]
  },
  {
   "cell_type": "markdown",
   "metadata": {},
   "source": [
    "In this project, 5 models of recommendations were evaluated on a subset of Amazon reviews dataset and below table summarises the results obtained.  \n",
    "<img src =\"conclusion.png\" align = left width=\"500\" height=\"500\"></img>  \n"
   ]
  },
  {
   "cell_type": "markdown",
   "metadata": {},
   "source": [
    "The baseline model which predicted the rating based on average rating of the product has a reasonable RMSE of 1.744. The reason it achieved comparable performance to the other models is because the mean ratings in our dataset are mostly high ranging from 3 to 5 and the model also predicted ratings close to the mean ratings. The user-based colloborative filtering method which utilised KNN model to find the nearest neighbors took a great deal of time in computing the ratings of test dataset. However, only a slight improvement was observed in the performance of the model. The item-based colloborative method gave a better performance than user-based because the model starts filtering with item first instead of users and in our dataset there are much less products than there are customers. Kmeans clustering models gave the best performance in this project with RMSE of 1.093. With matrix factorisation, the prediction time of ratings become really fast and it performed better than KNN-based models. To address the cold-start problem, product title information was leveraged and simmilar items was found using product features. A pretrained version of BERT was used to extract those features. This model also gave satisfactory performance as compared to other models. "
   ]
  },
  {
   "cell_type": "markdown",
   "metadata": {},
   "source": [
    "# 6. Future work <a name=\"future\"></a>"
   ]
  },
  {
   "cell_type": "markdown",
   "metadata": {},
   "source": [
    "In this project, only a subset of dataset was utilised for evaluating the performance of models because of the computation limits of the local machine. For future, evaluation can be performed on high performant machines using a larger dataset. It would also be intersting to see the performance of models by using a hybrid approach of combining collaborative and content-based methods, which helps to avoid certain limitations of content-based and collaborative systems. For content-based filtering model, a comparison of other BERT models can be performed other than the bert_base_uncased which was used in this project.\n"
   ]
  },
  {
   "cell_type": "markdown",
   "metadata": {},
   "source": [
    "# 7. References"
   ]
  },
  {
   "cell_type": "markdown",
   "metadata": {},
   "source": [
    " - Shani G., Gunawardana A. (2011) Evaluating Recommendation Systems. In: Ricci F., Rokach L., Shapira B., Kantor P. (eds) Recommender Systems Handbook. Springer, Boston, MA. https://doi.org/10.1007/978-0-387-85820-3_8\n",
    " - https://github.com/PacktPublishing/Statistics-for-Machine-Learning  \n",
    " - https://github.com/PacktPublishing/Hands-On-Recommendation-Systems-with-Python  \n",
    " - https://mccormickml.com/2019/05/14/BERT-word-embeddings-tutorial/  \n",
    " - https://medium.com/datadriveninvestor/how-to-built-a-recommender-system-rs-616c988d64b2  "
   ]
  }
 ],
 "metadata": {
  "kernelspec": {
   "display_name": "Python 3",
   "language": "python",
   "name": "python3"
  },
  "language_info": {
   "codemirror_mode": {
    "name": "ipython",
    "version": 3
   },
   "file_extension": ".py",
   "mimetype": "text/x-python",
   "name": "python",
   "nbconvert_exporter": "python",
   "pygments_lexer": "ipython3",
   "version": "3.6.8"
  }
 },
 "nbformat": 4,
 "nbformat_minor": 4
}
